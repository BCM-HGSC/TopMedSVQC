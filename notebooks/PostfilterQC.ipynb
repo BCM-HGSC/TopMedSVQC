{
 "cells": [
  {
   "cell_type": "code",
   "execution_count": 2,
   "metadata": {},
   "outputs": [],
   "source": [
    "import pandas as pd\n",
    "import joblib\n",
    "import seaborn as sb\n",
    "import matplotlib.pyplot as plt\n",
    "import itertools\n",
    "import truvari\n",
    "import glob\n",
    "from scipy import stats"
   ]
  },
  {
   "cell_type": "code",
   "execution_count": 31,
   "metadata": {},
   "outputs": [],
   "source": [
    "pop_colours = {\n",
    "    'AFR': '#FF0000',\n",
    "    'AMR': '#008000',\n",
    "    'EAS': '#00FFFF',\n",
    "    'EAS & Samoan': '#00FFFF',\n",
    "    'EUR': '#90EE90',\n",
    "    'MES': '#FFA500',\n",
    "    'OCN': '#8B0000',\n",
    "    'SAS': '#1E90FF',\n",
    "    'KES': '#808080',\n",
    "    'CMS': '#0000FF',\n",
    "}"
   ]
  },
  {
   "cell_type": "code",
   "execution_count": 3,
   "metadata": {},
   "outputs": [
    {
     "name": "stdout",
     "output_type": "stream",
     "text": [
      "Index(['id', 'svtype', 'svlen', 'szbin', 'qual', 'filter', 'is_pass', 'AC',\n",
      "       'NS', 'AF', 'CALLRATE', 'END', 'SVLEN', 'SVTYPE', 'Biallelic', 'GD_AF',\n",
      "       'GD_ID', '1000g_event', 'GTCNT', 'Gene_name'],\n",
      "      dtype='object')\n",
      "Index(['id', 'svtype', 'svlen', 'szbin', 'qual', 'filter', 'is_pass', 'AC',\n",
      "       'NS', 'AF', 'CALLRATE', 'END', 'SVLEN', 'SVTYPE', 'Biallelic', 'GD_AF',\n",
      "       'GD_ID', '1000g_event', 'GTCNT', 'Gene_name'],\n",
      "      dtype='object')\n",
      "Index(['id', 'svtype', 'svlen', 'szbin', 'qual', 'filter', 'is_pass', 'AC',\n",
      "       'NS', 'AF', 'CALLRATE', 'END', 'SVLEN', 'SVTYPE', 'Biallelic', 'GD_AF',\n",
      "       'GD_ID', '1000g_event', 'GTCNT', 'Gene_name'],\n",
      "      dtype='object')\n"
     ]
    }
   ],
   "source": [
    "data = []\n",
    "for i in glob.glob(\"results/*lite.jl\"):\n",
    "    d = joblib.load(i)\n",
    "    print(d.columns)\n",
    "    data.append(d)\n",
    "data = pd.concat(data)"
   ]
  },
  {
   "cell_type": "code",
   "execution_count": 4,
   "metadata": {},
   "outputs": [],
   "source": [
    "bins = []\n",
    "labels = []\n",
    "for i in range(5, 101, 5):\n",
    "    bins.append(i/ 100)\n",
    "    labels.append(f\"[{i-5},{i})\")\n",
    "bins.insert(0, 0)\n",
    "data[\"AFBin\"] = pd.cut(data[\"AF\"], bins, labels=labels)\n",
    "data[\"GDAFBin\"] = pd.cut(data[\"GD_AF\"], bins, labels=labels)\n",
    "\n",
    "data[\"filter\"] = data[\"filter\"].apply(lambda x: x[0])\n",
    "data['is_gnomAD'] = ~data[\"GD_ID\"].isna()\n",
    "data['is_1000g'] = ~data[\"1000g_event\"].isna()\n",
    "data['known'] = data['is_gnomAD'] | data['is_1000g']\n",
    "data['count'] = 1\n",
    "pass_only = data[\"filter\"] == 'PASS'"
   ]
  },
  {
   "cell_type": "code",
   "execution_count": 5,
   "metadata": {},
   "outputs": [],
   "source": [
    "filtered = data.loc[~pass_only]\n",
    "data = data.loc[pass_only]"
   ]
  },
  {
   "cell_type": "code",
   "execution_count": 6,
   "metadata": {},
   "outputs": [],
   "source": [
    "new_bins = [0, 1000, 5000, 10000, 20000, 50000, 100000, 1e7]\n",
    "labels = [\"[0,1kb)\", \"[1kb, 5kb)\", \"[5kb, 10kb)\", \"[10kb, 20kb)\", \"[20kb, 50kb)\", \"[50kb, 100kb)\", \"100kb+\"]\n",
    "data[\"big_bins\"] = pd.cut(data[\"svlen\"], new_bins, labels=labels)"
   ]
  },
  {
   "cell_type": "code",
   "execution_count": 7,
   "metadata": {},
   "outputs": [
    {
     "data": {
      "image/png": "[encoded data removed]",
      "text/plain": [
       "<Figure size 432x288 with 1 Axes>"
      ]
     },
     "metadata": {
      "needs_background": "light"
     },
     "output_type": "display_data"
    }
   ],
   "source": [
    "p = sb.countplot(data=data, x=\"big_bins\", hue=\"svtype\", hue_order=[\"DEL\", \"DUP\", \"INV\"])\n",
    "sb.despine()\n",
    "sb.move_legend(p, \"right\",\n",
    "    #bbox_to_anchor=(.5, 1),\n",
    "    title=None,\n",
    "    frameon=False,)\n",
    "p.set(title=\"Overall SV count\", xlabel=\"SizeBin\", ylabel=\"Count\")\n",
    "hide = plt.yticks(range(0, 80000, 10000), [\"{:,d}k\".format(x // 1000) for x in range(0, 80000, 10000)])\n",
    "hide = plt.xticks(rotation=30, ha='right')"
   ]
  },
  {
   "cell_type": "code",
   "execution_count": 8,
   "metadata": {
    "scrolled": true
   },
   "outputs": [
    {
     "data": {
      "text/plain": [
       "count     355954\n",
       "mean       48121\n",
       "std       294380\n",
       "min           11\n",
       "25%         2026\n",
       "50%         5399\n",
       "75%        15704\n",
       "max      9984015\n",
       "Name: svlen, dtype: int64"
      ]
     },
     "execution_count": 8,
     "metadata": {},
     "output_type": "execute_result"
    }
   ],
   "source": [
    "data[\"svlen\"].describe().astype(int)"
   ]
  },
  {
   "cell_type": "code",
   "execution_count": 9,
   "metadata": {},
   "outputs": [
    {
     "data": {
      "text/html": [
       "<style type=\"text/css\">\n",
       "</style>\n",
       "<table id=\"T_cef2f_\">\n",
       "  <thead>\n",
       "    <tr>\n",
       "      <th class=\"blank level0\" >&nbsp;</th>\n",
       "      <th class=\"col_heading level0 col0\" >[0,50)</th>\n",
       "      <th class=\"col_heading level0 col1\" >[50,100)</th>\n",
       "      <th class=\"col_heading level0 col2\" >[100,200)</th>\n",
       "      <th class=\"col_heading level0 col3\" >[200,300)</th>\n",
       "      <th class=\"col_heading level0 col4\" >[300,400)</th>\n",
       "      <th class=\"col_heading level0 col5\" >[400,600)</th>\n",
       "      <th class=\"col_heading level0 col6\" >[600,800)</th>\n",
       "      <th class=\"col_heading level0 col7\" >[800,1k)</th>\n",
       "      <th class=\"col_heading level0 col8\" >[1k,2.5k)</th>\n",
       "      <th class=\"col_heading level0 col9\" >[2.5k,5k)</th>\n",
       "      <th class=\"col_heading level0 col10\" >>=5k</th>\n",
       "      <th class=\"col_heading level0 col11\" >Total</th>\n",
       "    </tr>\n",
       "  </thead>\n",
       "  <tbody>\n",
       "    <tr>\n",
       "      <th id=\"T_cef2f_level0_row0\" class=\"row_heading level0 row0\" >DEL</th>\n",
       "      <td id=\"T_cef2f_row0_col0\" class=\"data row0 col0\" >9,314</td>\n",
       "      <td id=\"T_cef2f_row0_col1\" class=\"data row0 col1\" >6,175</td>\n",
       "      <td id=\"T_cef2f_row0_col2\" class=\"data row0 col2\" >2,737</td>\n",
       "      <td id=\"T_cef2f_row0_col3\" class=\"data row0 col3\" >1,336</td>\n",
       "      <td id=\"T_cef2f_row0_col4\" class=\"data row0 col4\" >2,213</td>\n",
       "      <td id=\"T_cef2f_row0_col5\" class=\"data row0 col5\" >2,832</td>\n",
       "      <td id=\"T_cef2f_row0_col6\" class=\"data row0 col6\" >3,215</td>\n",
       "      <td id=\"T_cef2f_row0_col7\" class=\"data row0 col7\" >1,657</td>\n",
       "      <td id=\"T_cef2f_row0_col8\" class=\"data row0 col8\" >17,368</td>\n",
       "      <td id=\"T_cef2f_row0_col9\" class=\"data row0 col9\" >57,920</td>\n",
       "      <td id=\"T_cef2f_row0_col10\" class=\"data row0 col10\" >127,050</td>\n",
       "      <td id=\"T_cef2f_row0_col11\" class=\"data row0 col11\" >231,817</td>\n",
       "    </tr>\n",
       "    <tr>\n",
       "      <th id=\"T_cef2f_level0_row1\" class=\"row_heading level0 row1\" >DUP</th>\n",
       "      <td id=\"T_cef2f_row1_col0\" class=\"data row1 col0\" >55</td>\n",
       "      <td id=\"T_cef2f_row1_col1\" class=\"data row1 col1\" >5,573</td>\n",
       "      <td id=\"T_cef2f_row1_col2\" class=\"data row1 col2\" >11,391</td>\n",
       "      <td id=\"T_cef2f_row1_col3\" class=\"data row1 col3\" >4,809</td>\n",
       "      <td id=\"T_cef2f_row1_col4\" class=\"data row1 col4\" >5,222</td>\n",
       "      <td id=\"T_cef2f_row1_col5\" class=\"data row1 col5\" >3,756</td>\n",
       "      <td id=\"T_cef2f_row1_col6\" class=\"data row1 col6\" >1,935</td>\n",
       "      <td id=\"T_cef2f_row1_col7\" class=\"data row1 col7\" >1,279</td>\n",
       "      <td id=\"T_cef2f_row1_col8\" class=\"data row1 col8\" >5,811</td>\n",
       "      <td id=\"T_cef2f_row1_col9\" class=\"data row1 col9\" >6,283</td>\n",
       "      <td id=\"T_cef2f_row1_col10\" class=\"data row1 col10\" >40,797</td>\n",
       "      <td id=\"T_cef2f_row1_col11\" class=\"data row1 col11\" >86,911</td>\n",
       "    </tr>\n",
       "    <tr>\n",
       "      <th id=\"T_cef2f_level0_row2\" class=\"row_heading level0 row2\" >INV</th>\n",
       "      <td id=\"T_cef2f_row2_col0\" class=\"data row2 col0\" >3,760</td>\n",
       "      <td id=\"T_cef2f_row2_col1\" class=\"data row2 col1\" >3,606</td>\n",
       "      <td id=\"T_cef2f_row2_col2\" class=\"data row2 col2\" >2,648</td>\n",
       "      <td id=\"T_cef2f_row2_col3\" class=\"data row2 col3\" >282</td>\n",
       "      <td id=\"T_cef2f_row2_col4\" class=\"data row2 col4\" >169</td>\n",
       "      <td id=\"T_cef2f_row2_col5\" class=\"data row2 col5\" >316</td>\n",
       "      <td id=\"T_cef2f_row2_col6\" class=\"data row2 col6\" >257</td>\n",
       "      <td id=\"T_cef2f_row2_col7\" class=\"data row2 col7\" >234</td>\n",
       "      <td id=\"T_cef2f_row2_col8\" class=\"data row2 col8\" >2,134</td>\n",
       "      <td id=\"T_cef2f_row2_col9\" class=\"data row2 col9\" >4,883</td>\n",
       "      <td id=\"T_cef2f_row2_col10\" class=\"data row2 col10\" >18,937</td>\n",
       "      <td id=\"T_cef2f_row2_col11\" class=\"data row2 col11\" >37,226</td>\n",
       "    </tr>\n",
       "    <tr>\n",
       "      <th id=\"T_cef2f_level0_row3\" class=\"row_heading level0 row3\" >Total</th>\n",
       "      <td id=\"T_cef2f_row3_col0\" class=\"data row3 col0\" >13,129</td>\n",
       "      <td id=\"T_cef2f_row3_col1\" class=\"data row3 col1\" >15,354</td>\n",
       "      <td id=\"T_cef2f_row3_col2\" class=\"data row3 col2\" >16,776</td>\n",
       "      <td id=\"T_cef2f_row3_col3\" class=\"data row3 col3\" >6,427</td>\n",
       "      <td id=\"T_cef2f_row3_col4\" class=\"data row3 col4\" >7,604</td>\n",
       "      <td id=\"T_cef2f_row3_col5\" class=\"data row3 col5\" >6,904</td>\n",
       "      <td id=\"T_cef2f_row3_col6\" class=\"data row3 col6\" >5,407</td>\n",
       "      <td id=\"T_cef2f_row3_col7\" class=\"data row3 col7\" >3,170</td>\n",
       "      <td id=\"T_cef2f_row3_col8\" class=\"data row3 col8\" >25,313</td>\n",
       "      <td id=\"T_cef2f_row3_col9\" class=\"data row3 col9\" >69,086</td>\n",
       "      <td id=\"T_cef2f_row3_col10\" class=\"data row3 col10\" >186,784</td>\n",
       "      <td id=\"T_cef2f_row3_col11\" class=\"data row3 col11\" >355,954</td>\n",
       "    </tr>\n",
       "  </tbody>\n",
       "</table>\n"
      ],
      "text/plain": [
       "<pandas.io.formats.style.Styler at 0x136e245e0>"
      ]
     },
     "execution_count": 9,
     "metadata": {},
     "output_type": "execute_result"
    }
   ],
   "source": [
    "#pd.options.display.max_rows = None\n",
    "view = pd.DataFrame(data.groupby(['svtype', 'szbin']).size()[[\"DEL\", \"DUP\", \"INV\"]].values.reshape(3, 11),\n",
    "            index=[\"DEL\", \"DUP\", \"INV\"], columns=truvari.SZBINS)\n",
    "view[\"Total\"] = view.sum(axis=1)\n",
    "view.loc[\"Total\"] = view.sum(axis=0)\n",
    "view.style.format(\"{:,d}\")\n",
    "\n",
    "# NEW VCFs"
   ]
  },
  {
   "cell_type": "code",
   "execution_count": 10,
   "metadata": {},
   "outputs": [
    {
     "data": {
      "text/html": [
       "<div>\n",
       "<style scoped>\n",
       "    .dataframe tbody tr th:only-of-type {\n",
       "        vertical-align: middle;\n",
       "    }\n",
       "\n",
       "    .dataframe tbody tr th {\n",
       "        vertical-align: top;\n",
       "    }\n",
       "\n",
       "    .dataframe thead th {\n",
       "        text-align: right;\n",
       "    }\n",
       "</style>\n",
       "<table border=\"1\" class=\"dataframe\">\n",
       "  <thead>\n",
       "    <tr style=\"text-align: right;\">\n",
       "      <th></th>\n",
       "      <th></th>\n",
       "      <th></th>\n",
       "      <th>Count</th>\n",
       "      <th>PctOfSVtype</th>\n",
       "    </tr>\n",
       "    <tr>\n",
       "      <th>svtype</th>\n",
       "      <th>is_gnomAD</th>\n",
       "      <th>is_1000g</th>\n",
       "      <th></th>\n",
       "      <th></th>\n",
       "    </tr>\n",
       "  </thead>\n",
       "  <tbody>\n",
       "    <tr>\n",
       "      <th rowspan=\"4\" valign=\"top\">DEL</th>\n",
       "      <th rowspan=\"2\" valign=\"top\">False</th>\n",
       "      <th>False</th>\n",
       "      <td>100087</td>\n",
       "      <td>43.2</td>\n",
       "    </tr>\n",
       "    <tr>\n",
       "      <th>True</th>\n",
       "      <td>21219</td>\n",
       "      <td>9.2</td>\n",
       "    </tr>\n",
       "    <tr>\n",
       "      <th rowspan=\"2\" valign=\"top\">True</th>\n",
       "      <th>False</th>\n",
       "      <td>57300</td>\n",
       "      <td>24.7</td>\n",
       "    </tr>\n",
       "    <tr>\n",
       "      <th>True</th>\n",
       "      <td>53211</td>\n",
       "      <td>23.0</td>\n",
       "    </tr>\n",
       "    <tr>\n",
       "      <th rowspan=\"4\" valign=\"top\">DUP</th>\n",
       "      <th rowspan=\"2\" valign=\"top\">False</th>\n",
       "      <th>False</th>\n",
       "      <td>43695</td>\n",
       "      <td>50.3</td>\n",
       "    </tr>\n",
       "    <tr>\n",
       "      <th>True</th>\n",
       "      <td>7740</td>\n",
       "      <td>8.9</td>\n",
       "    </tr>\n",
       "    <tr>\n",
       "      <th rowspan=\"2\" valign=\"top\">True</th>\n",
       "      <th>False</th>\n",
       "      <td>24671</td>\n",
       "      <td>28.4</td>\n",
       "    </tr>\n",
       "    <tr>\n",
       "      <th>True</th>\n",
       "      <td>10805</td>\n",
       "      <td>12.4</td>\n",
       "    </tr>\n",
       "    <tr>\n",
       "      <th rowspan=\"4\" valign=\"top\">INV</th>\n",
       "      <th rowspan=\"2\" valign=\"top\">False</th>\n",
       "      <th>False</th>\n",
       "      <td>20012</td>\n",
       "      <td>53.8</td>\n",
       "    </tr>\n",
       "    <tr>\n",
       "      <th>True</th>\n",
       "      <td>6380</td>\n",
       "      <td>17.1</td>\n",
       "    </tr>\n",
       "    <tr>\n",
       "      <th rowspan=\"2\" valign=\"top\">True</th>\n",
       "      <th>False</th>\n",
       "      <td>8722</td>\n",
       "      <td>23.4</td>\n",
       "    </tr>\n",
       "    <tr>\n",
       "      <th>True</th>\n",
       "      <td>2112</td>\n",
       "      <td>5.7</td>\n",
       "    </tr>\n",
       "  </tbody>\n",
       "</table>\n",
       "</div>"
      ],
      "text/plain": [
       "                            Count  PctOfSVtype\n",
       "svtype is_gnomAD is_1000g                     \n",
       "DEL    False     False     100087         43.2\n",
       "                 True       21219          9.2\n",
       "       True      False      57300         24.7\n",
       "                 True       53211         23.0\n",
       "DUP    False     False      43695         50.3\n",
       "                 True        7740          8.9\n",
       "       True      False      24671         28.4\n",
       "                 True       10805         12.4\n",
       "INV    False     False      20012         53.8\n",
       "                 True        6380         17.1\n",
       "       True      False       8722         23.4\n",
       "                 True        2112          5.7"
      ]
     },
     "execution_count": 10,
     "metadata": {},
     "output_type": "execute_result"
    }
   ],
   "source": [
    "view_p = ((data.groupby([\"svtype\", \"is_gnomAD\", \"is_1000g\"]).size() / data.groupby([\"svtype\"]).size()).dropna() * 100).round(1)\n",
    "view_cnt = data.groupby([\"svtype\", \"is_gnomAD\", \"is_1000g\"]).size()\n",
    "view = pd.concat([view_cnt, view_p], axis=1)\n",
    "view.columns = [\"Count\", \"PctOfSVtype\"]\n",
    "view.loc[[\"DEL\", \"DUP\", \"INV\"]]"
   ]
  },
  {
   "cell_type": "code",
   "execution_count": 11,
   "metadata": {},
   "outputs": [
    {
     "data": {
      "text/html": [
       "<div>\n",
       "<style scoped>\n",
       "    .dataframe tbody tr th:only-of-type {\n",
       "        vertical-align: middle;\n",
       "    }\n",
       "\n",
       "    .dataframe tbody tr th {\n",
       "        vertical-align: top;\n",
       "    }\n",
       "\n",
       "    .dataframe thead th {\n",
       "        text-align: right;\n",
       "    }\n",
       "</style>\n",
       "<table border=\"1\" class=\"dataframe\">\n",
       "  <thead>\n",
       "    <tr style=\"text-align: right;\">\n",
       "      <th></th>\n",
       "      <th></th>\n",
       "      <th>Count</th>\n",
       "      <th>PctOfSVtype</th>\n",
       "    </tr>\n",
       "    <tr>\n",
       "      <th>svtype</th>\n",
       "      <th>known</th>\n",
       "      <th></th>\n",
       "      <th></th>\n",
       "    </tr>\n",
       "  </thead>\n",
       "  <tbody>\n",
       "    <tr>\n",
       "      <th rowspan=\"2\" valign=\"top\">DEL</th>\n",
       "      <th>False</th>\n",
       "      <td>100087</td>\n",
       "      <td>43.2</td>\n",
       "    </tr>\n",
       "    <tr>\n",
       "      <th>True</th>\n",
       "      <td>131730</td>\n",
       "      <td>56.8</td>\n",
       "    </tr>\n",
       "    <tr>\n",
       "      <th rowspan=\"2\" valign=\"top\">DUP</th>\n",
       "      <th>False</th>\n",
       "      <td>43695</td>\n",
       "      <td>50.3</td>\n",
       "    </tr>\n",
       "    <tr>\n",
       "      <th>True</th>\n",
       "      <td>43216</td>\n",
       "      <td>49.7</td>\n",
       "    </tr>\n",
       "    <tr>\n",
       "      <th rowspan=\"2\" valign=\"top\">INV</th>\n",
       "      <th>False</th>\n",
       "      <td>20012</td>\n",
       "      <td>53.8</td>\n",
       "    </tr>\n",
       "    <tr>\n",
       "      <th>True</th>\n",
       "      <td>17214</td>\n",
       "      <td>46.2</td>\n",
       "    </tr>\n",
       "  </tbody>\n",
       "</table>\n",
       "</div>"
      ],
      "text/plain": [
       "               Count  PctOfSVtype\n",
       "svtype known                     \n",
       "DEL    False  100087         43.2\n",
       "       True   131730         56.8\n",
       "DUP    False   43695         50.3\n",
       "       True    43216         49.7\n",
       "INV    False   20012         53.8\n",
       "       True    17214         46.2"
      ]
     },
     "execution_count": 11,
     "metadata": {},
     "output_type": "execute_result"
    }
   ],
   "source": [
    "view_p = ((data.groupby([\"svtype\", \"known\"]).size() / data.groupby([\"svtype\"]).size()).dropna() * 100).round(1)\n",
    "view_cnt = data.groupby([\"svtype\", \"known\"]).size()\n",
    "view = pd.concat([view_cnt, view_p], axis=1)\n",
    "view.columns = [\"Count\", \"PctOfSVtype\"]\n",
    "view.loc[[\"DEL\", \"DUP\", \"INV\"]]"
   ]
  },
  {
   "cell_type": "code",
   "execution_count": 21,
   "metadata": {},
   "outputs": [
    {
     "data": {
      "image/png": "[encoded data removed]",
      "text/plain": [
       "<Figure size 432x288 with 1 Axes>"
      ]
     },
     "metadata": {
      "needs_background": "light"
     },
     "output_type": "display_data"
    }
   ],
   "source": [
    "p = sb.countplot(data=data, x=\"AFBin\", hue=\"svtype\", hue_order=[\"DEL\", \"DUP\", \"INV\"])\n",
    "p.set(yscale=\"log\", title=\"AFBin Counts\")\n",
    "hide = plt.xticks(rotation=90)"
   ]
  },
  {
   "cell_type": "code",
   "execution_count": 12,
   "metadata": {},
   "outputs": [],
   "source": [
    "data[[\"UNK\", \"REF\", \"HET\", \"HOM\"]] = pd.DataFrame(data['GTCNT'].tolist(), index=data.index)"
   ]
  },
  {
   "cell_type": "code",
   "execution_count": 13,
   "metadata": {},
   "outputs": [
    {
     "data": {
      "image/png": "[encoded data removed]",
      "text/plain": [
       "<Figure size 432x288 with 1 Axes>"
      ]
     },
     "metadata": {
      "needs_background": "light"
     },
     "output_type": "display_data"
    }
   ],
   "source": [
    "cnts = data[[\"UNK\", \"REF\", \"HET\", \"HOM\"]].sum(axis=0)\n",
    "p = sb.barplot(x=cnts.index, y=cnts.values)\n",
    "hide = p.set(yscale=\"log\", title=\"GTCounts\")"
   ]
  },
  {
   "cell_type": "code",
   "execution_count": 14,
   "metadata": {},
   "outputs": [
    {
     "name": "stdout",
     "output_type": "stream",
     "text": [
      "168,307 singletons 47.28%\n"
     ]
    }
   ],
   "source": [
    "singletons = data[[\"HET\", \"HOM\"]].sum(axis=1) == 1\n",
    "print(\"{:,d} singletons {:.2f}%\".format(singletons.sum(), singletons.sum() / data.shape[0] * 100))"
   ]
  },
  {
   "cell_type": "code",
   "execution_count": 15,
   "metadata": {},
   "outputs": [],
   "source": [
    "data[\"missing_pct\"] = data[\"UNK\"] / data[[\"UNK\", \"REF\", \"HET\", \"HOM\"]].sum(axis=1)"
   ]
  },
  {
   "cell_type": "code",
   "execution_count": 16,
   "metadata": {},
   "outputs": [],
   "source": [
    "a = data[singletons][\"svtype\"].value_counts()"
   ]
  },
  {
   "cell_type": "code",
   "execution_count": 17,
   "metadata": {},
   "outputs": [],
   "source": [
    "b = data[\"svtype\"].value_counts()"
   ]
  },
  {
   "cell_type": "code",
   "execution_count": 18,
   "metadata": {},
   "outputs": [
    {
     "data": {
      "text/html": [
       "<div>\n",
       "<style scoped>\n",
       "    .dataframe tbody tr th:only-of-type {\n",
       "        vertical-align: middle;\n",
       "    }\n",
       "\n",
       "    .dataframe tbody tr th {\n",
       "        vertical-align: top;\n",
       "    }\n",
       "\n",
       "    .dataframe thead th {\n",
       "        text-align: right;\n",
       "    }\n",
       "</style>\n",
       "<table border=\"1\" class=\"dataframe\">\n",
       "  <thead>\n",
       "    <tr style=\"text-align: right;\">\n",
       "      <th></th>\n",
       "      <th>singletons</th>\n",
       "      <th>total</th>\n",
       "      <th>pct</th>\n",
       "    </tr>\n",
       "  </thead>\n",
       "  <tbody>\n",
       "    <tr>\n",
       "      <th>DEL</th>\n",
       "      <td>101346</td>\n",
       "      <td>231817</td>\n",
       "      <td>0.437181</td>\n",
       "    </tr>\n",
       "    <tr>\n",
       "      <th>DUP</th>\n",
       "      <td>45164</td>\n",
       "      <td>86911</td>\n",
       "      <td>0.519658</td>\n",
       "    </tr>\n",
       "    <tr>\n",
       "      <th>INV</th>\n",
       "      <td>21797</td>\n",
       "      <td>37226</td>\n",
       "      <td>0.585532</td>\n",
       "    </tr>\n",
       "  </tbody>\n",
       "</table>\n",
       "</div>"
      ],
      "text/plain": [
       "     singletons   total       pct\n",
       "DEL      101346  231817  0.437181\n",
       "DUP       45164   86911  0.519658\n",
       "INV       21797   37226  0.585532"
      ]
     },
     "execution_count": 18,
     "metadata": {},
     "output_type": "execute_result"
    }
   ],
   "source": [
    "view = pd.concat([a, b, a / b], axis=1)\n",
    "view.columns = [\"singletons\", \"total\", \"pct\"]\n",
    "view.dropna()"
   ]
  },
  {
   "cell_type": "code",
   "execution_count": 19,
   "metadata": {},
   "outputs": [
    {
     "name": "stdout",
     "output_type": "stream",
     "text": [
      "0.47283356838243146\n"
     ]
    }
   ],
   "source": [
    "j = view.sum()\n",
    "print(j[\"singletons\"] / j[\"total\"])"
   ]
  },
  {
   "cell_type": "code",
   "execution_count": 20,
   "metadata": {},
   "outputs": [
    {
     "name": "stdout",
     "output_type": "stream",
     "text": [
      "True     339766\n",
      "False     16188\n",
      "Name: AF, dtype: int64\n",
      "0.9545222135444468\n"
     ]
    }
   ],
   "source": [
    "x = (data[\"AF\"] < 0.01).value_counts()\n",
    "print(x)\n",
    "print(x[True] / x.sum())"
   ]
  },
  {
   "cell_type": "code",
   "execution_count": 21,
   "metadata": {},
   "outputs": [
    {
     "data": {
      "text/plain": [
       "False    183788\n",
       "True     172166\n",
       "Name: Gene_name, dtype: int64"
      ]
     },
     "execution_count": 21,
     "metadata": {},
     "output_type": "execute_result"
    }
   ],
   "source": [
    "hits_gene = data[\"Gene_name\"].isna()\n",
    "hits_gene.value_counts()"
   ]
  },
  {
   "cell_type": "code",
   "execution_count": 22,
   "metadata": {},
   "outputs": [
    {
     "data": {
      "text/plain": [
       "355954"
      ]
     },
     "execution_count": 22,
     "metadata": {},
     "output_type": "execute_result"
    }
   ],
   "source": [
    "len(data)"
   ]
  },
  {
   "cell_type": "code",
   "execution_count": 5,
   "metadata": {},
   "outputs": [
    {
     "name": "stdout",
     "output_type": "stream",
     "text": [
      "dict_keys(['DEL', 'DUP', 'INV'])\n"
     ]
    }
   ],
   "source": [
    "samp_cnt = joblib.load(\"../results/PerSampleSVCounts.jl\")\n",
    "cnts = []\n",
    "print(samp_cnt.keys())\n",
    "for key in samp_cnt:\n",
    "    cnts.append(pd.Series(samp_cnt[key], name=key))\n",
    "samp_cnt = pd.concat(cnts, axis=1)\n",
    "samp_cnt[\"sample\"] = open(\"../results/VCFsamples.txt\", 'r').readline().strip().split('\\t')\n",
    "samp_cnt[\"TOT\"] = samp_cnt[[\"DEL\", \"DUP\", \"INV\"]].sum(axis=1)\n",
    "samp_cnt = samp_cnt.melt(id_vars=[\"sample\"], value_vars=[\"DEL\", \"DUP\", \"INV\", \"TOT\"])"
   ]
  },
  {
   "cell_type": "code",
   "execution_count": 43,
   "metadata": {},
   "outputs": [
    {
     "name": "stdout",
     "output_type": "stream",
     "text": [
      "EUR             79874\n",
      "AFR             41756\n",
      "EAS & Samoan     6869\n",
      "AMR              4693\n",
      "SAS              4599\n",
      "MES               343\n",
      "Name: Ancestry, dtype: int64\n"
     ]
    }
   ],
   "source": [
    "anc = pd.read_csv(\"../results/ancestries.txt\")\n",
    "anc['Ancestry'] = anc['Ancestry'].apply(lambda x: \"EAS & Samoan\" if x == 'EAS' else x)\n",
    "anc['Ancestry'] = anc['Ancestry'].apply(lambda x: x if x != \"OCN\" else 'EAS & Samoan')\n",
    "anc_d = anc.set_index(\"NWDID\")[\"Ancestry\"].to_dict()\n",
    "samp_cnt[\"ancestry\"] = samp_cnt[\"sample\"].map(anc_d)"
   ]
  },
  {
   "cell_type": "code",
   "execution_count": 44,
   "metadata": {},
   "outputs": [
    {
     "data": {
      "image/png": "[encoded data removed]",
      "text/plain": [
       "<Figure size 640x480 with 1 Axes>"
      ]
     },
     "metadata": {},
     "output_type": "display_data"
    }
   ],
   "source": [
    "p = sb.violinplot(data=samp_cnt[(samp_cnt[\"variable\"] == \"TOT\")],\n",
    "                  x=\"ancestry\", y=\"value\", palette=pop_colours)\n",
    "sb.despine()\n",
    "hide = plt.yticks(range(2500, 8000, 1000), [\"{:,d}k\".format(x // 1000) for x in range(2500, 8000, 1000)])\n",
    "hide = p.set(title=\"Per-Sample SV Count\", ylabel=\"Count\", xlabel=\"Ancestry\")"
   ]
  },
  {
   "cell_type": "markdown",
   "metadata": {},
   "source": [
    "# Ancestry Makeup"
   ]
  },
  {
   "cell_type": "code",
   "execution_count": 45,
   "metadata": {},
   "outputs": [
    {
     "data": {
      "image/png": "[encoded data removed]",
      "text/plain": [
       "<Figure size 640x480 with 1 Axes>"
      ]
     },
     "metadata": {},
     "output_type": "display_data"
    }
   ],
   "source": [
    "j = anc[\"Ancestry\"].value_counts()\n",
    "j = pd.DataFrame(j)\n",
    "j = j[j[\"Ancestry\"] > 10]\n",
    "j[\"Pct\"] = j[\"Ancestry\"] / j[\"Ancestry\"].sum() * 100\n",
    "j.reset_index(inplace=True)\n",
    "labels = [\"{} {:,d}\".format(x[1][\"index\"], int(x[1].Ancestry)) for x in j[[\"index\", \"Ancestry\"]].iterrows()]\n",
    "j[\"color\"] = j[\"index\"].map(pop_colours)\n",
    "p = plt.pie(j[\"Ancestry\"], labels = labels, startangle=180, colors=j[\"color\"])"
   ]
  },
  {
   "cell_type": "code",
   "execution_count": 38,
   "metadata": {},
   "outputs": [
    {
     "data": {
      "text/html": [
       "<div>\n",
       "<style scoped>\n",
       "    .dataframe tbody tr th:only-of-type {\n",
       "        vertical-align: middle;\n",
       "    }\n",
       "\n",
       "    .dataframe tbody tr th {\n",
       "        vertical-align: top;\n",
       "    }\n",
       "\n",
       "    .dataframe thead th {\n",
       "        text-align: right;\n",
       "    }\n",
       "</style>\n",
       "<table border=\"1\" class=\"dataframe\">\n",
       "  <thead>\n",
       "    <tr style=\"text-align: right;\">\n",
       "      <th></th>\n",
       "      <th>index</th>\n",
       "      <th>Ancestry</th>\n",
       "      <th>Pct</th>\n",
       "      <th>color</th>\n",
       "    </tr>\n",
       "  </thead>\n",
       "  <tbody>\n",
       "    <tr>\n",
       "      <th>0</th>\n",
       "      <td>EUR</td>\n",
       "      <td>79874</td>\n",
       "      <td>57.823981</td>\n",
       "      <td>#90EE90</td>\n",
       "    </tr>\n",
       "    <tr>\n",
       "      <th>1</th>\n",
       "      <td>AFR</td>\n",
       "      <td>41756</td>\n",
       "      <td>30.228837</td>\n",
       "      <td>#FF0000</td>\n",
       "    </tr>\n",
       "    <tr>\n",
       "      <th>2</th>\n",
       "      <td>EAS &amp; Samoan</td>\n",
       "      <td>6868</td>\n",
       "      <td>4.972020</td>\n",
       "      <td>#00FFFF</td>\n",
       "    </tr>\n",
       "    <tr>\n",
       "      <th>3</th>\n",
       "      <td>AMR</td>\n",
       "      <td>4693</td>\n",
       "      <td>3.397450</td>\n",
       "      <td>#008000</td>\n",
       "    </tr>\n",
       "    <tr>\n",
       "      <th>4</th>\n",
       "      <td>SAS</td>\n",
       "      <td>4599</td>\n",
       "      <td>3.329400</td>\n",
       "      <td>#1E90FF</td>\n",
       "    </tr>\n",
       "    <tr>\n",
       "      <th>5</th>\n",
       "      <td>MES</td>\n",
       "      <td>343</td>\n",
       "      <td>0.248311</td>\n",
       "      <td>#FFA500</td>\n",
       "    </tr>\n",
       "  </tbody>\n",
       "</table>\n",
       "</div>"
      ],
      "text/plain": [
       "          index  Ancestry        Pct    color\n",
       "0           EUR     79874  57.823981  #90EE90\n",
       "1           AFR     41756  30.228837  #FF0000\n",
       "2  EAS & Samoan      6868   4.972020  #00FFFF\n",
       "3           AMR      4693   3.397450  #008000\n",
       "4           SAS      4599   3.329400  #1E90FF\n",
       "5           MES       343   0.248311  #FFA500"
      ]
     },
     "execution_count": 38,
     "metadata": {},
     "output_type": "execute_result"
    }
   ],
   "source": [
    "j"
   ]
  },
  {
   "cell_type": "code",
   "execution_count": 27,
   "metadata": {},
   "outputs": [
    {
     "data": {
      "text/plain": [
       "0    79874\n",
       "1    41756\n",
       "2     6868\n",
       "3     4693\n",
       "4     4599\n",
       "5      343\n",
       "Name: Ancestry, dtype: int64"
      ]
     },
     "execution_count": 27,
     "metadata": {},
     "output_type": "execute_result"
    }
   ],
   "source": [
    "j[j[\"Ancestry\"] > 10][\"Ancestry\"]"
   ]
  },
  {
   "cell_type": "code",
   "execution_count": 28,
   "metadata": {},
   "outputs": [
    {
     "data": {
      "image/png": "[encoded data removed]",
      "text/plain": [
       "<Figure size 432x288 with 1 Axes>"
      ]
     },
     "metadata": {
      "needs_background": "light"
     },
     "output_type": "display_data"
    }
   ],
   "source": [
    "p = sb.boxplot(data=data[data[\"AF\"] >= 0.01], x=\"big_bins\", y=\"AF\", hue=\"svtype\", hue_order=[\"DEL\", \"DUP\", \"INV\"])\n",
    "p.set(title=\"Common (AF >= 1%) SV AF Distribution\")\n",
    "sb.despine()\n",
    "sb.move_legend(p, \"lower center\",\n",
    "    bbox_to_anchor=(1.1, .5),\n",
    "    #nrow=3,\n",
    "    title=None,\n",
    "    frameon=False,)\n",
    "hide = plt.xticks(rotation=30, ha=\"right\")"
   ]
  },
  {
   "cell_type": "markdown",
   "metadata": {},
   "source": [
    "# AF and Size"
   ]
  },
  {
   "cell_type": "code",
   "execution_count": 29,
   "metadata": {},
   "outputs": [
    {
     "name": "stderr",
     "output_type": "stream",
     "text": [
      "/var/folders/jv/tx_f68p54vv6wf2ylmpjnwkr0000gn/T/ipykernel_75726/3713057581.py:12: UserWarning: FixedFormatter should only be used together with FixedLocator\n",
      "  hide = p.set_xticklabels(ylabels)\n"
     ]
    },
    {
     "data": {
      "image/png": "[encoded data removed]",
      "text/plain": [
       "<Figure size 432x288 with 1 Axes>"
      ]
     },
     "metadata": {
      "needs_background": "light"
     },
     "output_type": "display_data"
    }
   ],
   "source": [
    "p = sb.boxplot(data=data, y=\"big_bins\", x=\"AF\", \n",
    "               hue=\"svtype\", hue_order=[\"DEL\", \"DUP\", \"INV\"],\n",
    "              fliersize=1)\n",
    "p.set(title=\"SV AF Distribution\", xscale=\"log\", xlabel=\"AF (symlog)\", ylabel=\"SizeBin\")\n",
    "sb.despine()\n",
    "sb.move_legend(p, \"lower center\",\n",
    "    bbox_to_anchor=(1.1, .5),\n",
    "    #nrow=3,\n",
    "    title=None,\n",
    "    frameon=False,)\n",
    "ylabels = ['{:.0e}'.format(x) for x in p.get_xticks()]\n",
    "hide = p.set_xticklabels(ylabels)\n",
    "#hide = plt.xticks(rotation=30, ha=\"right\")"
   ]
  },
  {
   "cell_type": "code",
   "execution_count": 30,
   "metadata": {},
   "outputs": [
    {
     "data": {
      "image/png": "[encoded data removed]",
      "text/plain": [
       "<Figure size 432x288 with 1 Axes>"
      ]
     },
     "metadata": {
      "needs_background": "light"
     },
     "output_type": "display_data"
    }
   ],
   "source": [
    "p = sb.boxplot(data=data[data[\"AF\"] >= 0.01], x=\"big_bins\", y=\"AF\", hue=\"svtype\", hue_order=[\"DEL\", \"DUP\", \"INV\"])\n",
    "p.set(title=\"Common (AF >= 1%) SV AF Distribution\")\n",
    "sb.despine()\n",
    "sb.move_legend(p, \"lower center\",\n",
    "    bbox_to_anchor=(1.1, .5),\n",
    "    #nrow=3,\n",
    "    title=None,\n",
    "    frameon=False,)\n",
    "hide = plt.xticks(rotation=30, ha=\"right\")"
   ]
  },
  {
   "cell_type": "code",
   "execution_count": 31,
   "metadata": {},
   "outputs": [
    {
     "data": {
      "image/png": "[encoded data removed]",
      "text/plain": [
       "<Figure size 432x288 with 1 Axes>"
      ]
     },
     "metadata": {
      "needs_background": "light"
     },
     "output_type": "display_data"
    }
   ],
   "source": [
    "p = sb.countplot(data=data, x=\"AFBin\", hue=\"svtype\", hue_order=[\"DEL\", \"DUP\", \"INV\"])\n",
    "p.set(yscale=\"log\", title=\"AFBin Counts\", ylabel=\"Count (log)\")\n",
    "sb.despine()\n",
    "hide = plt.xticks(rotation=90)"
   ]
  },
  {
   "cell_type": "markdown",
   "metadata": {},
   "source": [
    "# Known Variant Annotations"
   ]
  },
  {
   "cell_type": "code",
   "execution_count": 32,
   "metadata": {},
   "outputs": [
    {
     "name": "stdout",
     "output_type": "stream",
     "text": [
      "0.4405653539502295\n",
      "0.28505649606409816\n"
     ]
    }
   ],
   "source": [
    "is_gd = ~data[\"GD_ID\"].isna()\n",
    "print(is_gd.sum() / len(data))\n",
    "\n",
    "is_1k = ~data[\"1000g_event\"].isna()\n",
    "print(is_1k.sum() / len(data))"
   ]
  },
  {
   "cell_type": "code",
   "execution_count": 33,
   "metadata": {},
   "outputs": [],
   "source": [
    "overlaps = pd.DataFrame(data[is_gd & is_1k][\"AF\"].reset_index(drop=True))\n",
    "overlaps[\"Group\"] = \"All\"\n",
    "data.loc[is_gd & is_1k, \"known\"] = \"All\"\n",
    "\n",
    "non1kgp = pd.DataFrame(data[is_gd & ~is_1k][\"AF\"].reset_index(drop=True))\n",
    "non1kgp[\"Group\"] = \"gnomAD\"\n",
    "data.loc[is_gd & ~is_1k, \"known\"] = \"gnomAD\"\n",
    "\n",
    "nongt = pd.DataFrame(data[~is_gd & is_1k][\"AF\"].reset_index(drop=True))\n",
    "nongt[\"Group\"] = \"1KGP\"\n",
    "data.loc[~is_gd & is_1k, \"known\"] = \"1KGP\"\n",
    "    \n",
    "topmed = pd.DataFrame(data[~is_gd & ~is_1k][\"AF\"].reset_index(drop=True))\n",
    "topmed[\"Group\"] = \"TOPMed\"\n",
    "data.loc[~is_gd & ~is_1k, 'known'] = \"TOPMed\"\n",
    "#print(len(overlaps), len(non1kgp), len(nongt), len(topmed))"
   ]
  },
  {
   "cell_type": "code",
   "execution_count": 34,
   "metadata": {},
   "outputs": [
    {
     "name": "stderr",
     "output_type": "stream",
     "text": [
      "/var/folders/jv/tx_f68p54vv6wf2ylmpjnwkr0000gn/T/ipykernel_75726/2607624267.py:3: UserWarning: Attempted to set non-positive bottom ylim on a log-scaled axis.\n",
      "Invalid limit will be ignored.\n",
      "  hide = p.set(yscale=\"log\", ylim=(0, 0.15), xlabel=\"\", ylabel=\"SV Allele Frequency\")\n",
      "/var/folders/jv/tx_f68p54vv6wf2ylmpjnwkr0000gn/T/ipykernel_75726/2607624267.py:6: UserWarning: FixedFormatter should only be used together with FixedLocator\n",
      "  hide = p.set_yticklabels(ylabels)\n"
     ]
    },
    {
     "data": {
      "image/png": "[encoded data removed]",
      "text/plain": [
       "<Figure size 432x288 with 1 Axes>"
      ]
     },
     "metadata": {
      "needs_background": "light"
     },
     "output_type": "display_data"
    }
   ],
   "source": [
    "known_afs = pd.concat([overlaps, non1kgp, nongt, topmed])\n",
    "p = sb.boxplot(data=known_afs, x=\"Group\", y=\"AF\", fliersize=1)\n",
    "hide = p.set(yscale=\"log\", ylim=(0, 0.15), xlabel=\"\", ylabel=\"SV Allele Frequency\")\n",
    "sb.despine()\n",
    "ylabels = ['{:.0e}'.format(x) for x in p.get_yticks()]\n",
    "hide = p.set_yticklabels(ylabels)"
   ]
  },
  {
   "cell_type": "code",
   "execution_count": 35,
   "metadata": {},
   "outputs": [
    {
     "data": {
      "text/html": [
       "<div>\n",
       "<style scoped>\n",
       "    .dataframe tbody tr th:only-of-type {\n",
       "        vertical-align: middle;\n",
       "    }\n",
       "\n",
       "    .dataframe tbody tr th {\n",
       "        vertical-align: top;\n",
       "    }\n",
       "\n",
       "    .dataframe thead th {\n",
       "        text-align: right;\n",
       "    }\n",
       "</style>\n",
       "<table border=\"1\" class=\"dataframe\">\n",
       "  <thead>\n",
       "    <tr style=\"text-align: right;\">\n",
       "      <th></th>\n",
       "      <th>count</th>\n",
       "      <th>mean</th>\n",
       "      <th>std</th>\n",
       "      <th>min</th>\n",
       "      <th>25%</th>\n",
       "      <th>50%</th>\n",
       "      <th>75%</th>\n",
       "      <th>max</th>\n",
       "      <th>Pct of TOPMed SVs</th>\n",
       "    </tr>\n",
       "    <tr>\n",
       "      <th>Group</th>\n",
       "      <th></th>\n",
       "      <th></th>\n",
       "      <th></th>\n",
       "      <th></th>\n",
       "      <th></th>\n",
       "      <th></th>\n",
       "      <th></th>\n",
       "      <th></th>\n",
       "      <th></th>\n",
       "    </tr>\n",
       "  </thead>\n",
       "  <tbody>\n",
       "    <tr>\n",
       "      <th>1KGP</th>\n",
       "      <td>35339.0</td>\n",
       "      <td>0.006100</td>\n",
       "      <td>0.047575</td>\n",
       "      <td>0.000004</td>\n",
       "      <td>0.000004</td>\n",
       "      <td>0.000007</td>\n",
       "      <td>0.000021</td>\n",
       "      <td>0.999579</td>\n",
       "      <td>9.927968</td>\n",
       "    </tr>\n",
       "    <tr>\n",
       "      <th>All</th>\n",
       "      <td>66128.0</td>\n",
       "      <td>0.020029</td>\n",
       "      <td>0.096696</td>\n",
       "      <td>0.000004</td>\n",
       "      <td>0.000004</td>\n",
       "      <td>0.000027</td>\n",
       "      <td>0.001441</td>\n",
       "      <td>0.998170</td>\n",
       "      <td>18.577681</td>\n",
       "    </tr>\n",
       "    <tr>\n",
       "      <th>TOPMed</th>\n",
       "      <td>163794.0</td>\n",
       "      <td>0.002819</td>\n",
       "      <td>0.036282</td>\n",
       "      <td>0.000004</td>\n",
       "      <td>0.000004</td>\n",
       "      <td>0.000004</td>\n",
       "      <td>0.000011</td>\n",
       "      <td>0.999996</td>\n",
       "      <td>46.015496</td>\n",
       "    </tr>\n",
       "    <tr>\n",
       "      <th>gnomAD</th>\n",
       "      <td>90693.0</td>\n",
       "      <td>0.007951</td>\n",
       "      <td>0.057854</td>\n",
       "      <td>0.000004</td>\n",
       "      <td>0.000004</td>\n",
       "      <td>0.000007</td>\n",
       "      <td>0.000046</td>\n",
       "      <td>0.998901</td>\n",
       "      <td>25.478854</td>\n",
       "    </tr>\n",
       "  </tbody>\n",
       "</table>\n",
       "</div>"
      ],
      "text/plain": [
       "           count      mean       std       min       25%       50%       75%  \\\n",
       "Group                                                                          \n",
       "1KGP     35339.0  0.006100  0.047575  0.000004  0.000004  0.000007  0.000021   \n",
       "All      66128.0  0.020029  0.096696  0.000004  0.000004  0.000027  0.001441   \n",
       "TOPMed  163794.0  0.002819  0.036282  0.000004  0.000004  0.000004  0.000011   \n",
       "gnomAD   90693.0  0.007951  0.057854  0.000004  0.000004  0.000007  0.000046   \n",
       "\n",
       "             max  Pct of TOPMed SVs  \n",
       "Group                                \n",
       "1KGP    0.999579           9.927968  \n",
       "All     0.998170          18.577681  \n",
       "TOPMed  0.999996          46.015496  \n",
       "gnomAD  0.998901          25.478854  "
      ]
     },
     "execution_count": 35,
     "metadata": {},
     "output_type": "execute_result"
    }
   ],
   "source": [
    "known_sum = known_afs.groupby([\"Group\"])[\"AF\"].describe()\n",
    "known_sum[\"Pct of TOPMed SVs\"] = known_sum[\"count\"] / len(data) * 100\n",
    "known_sum"
   ]
  },
  {
   "cell_type": "code",
   "execution_count": 36,
   "metadata": {},
   "outputs": [
    {
     "data": {
      "text/html": [
       "<div>\n",
       "<style scoped>\n",
       "    .dataframe tbody tr th:only-of-type {\n",
       "        vertical-align: middle;\n",
       "    }\n",
       "\n",
       "    .dataframe tbody tr th {\n",
       "        vertical-align: top;\n",
       "    }\n",
       "\n",
       "    .dataframe thead th {\n",
       "        text-align: right;\n",
       "    }\n",
       "</style>\n",
       "<table border=\"1\" class=\"dataframe\">\n",
       "  <thead>\n",
       "    <tr style=\"text-align: right;\">\n",
       "      <th></th>\n",
       "      <th>Group A</th>\n",
       "      <th>Group B</th>\n",
       "      <th>A Mean</th>\n",
       "      <th>B Mean</th>\n",
       "      <th>A/B Mu Ratio</th>\n",
       "      <th>Mu A Pct Inc of B</th>\n",
       "      <th>A Median</th>\n",
       "      <th>B Median</th>\n",
       "      <th>A/B Med Ratio</th>\n",
       "      <th>Med A Pct Inc of B</th>\n",
       "    </tr>\n",
       "  </thead>\n",
       "  <tbody>\n",
       "    <tr>\n",
       "      <th>0</th>\n",
       "      <td>1KGP</td>\n",
       "      <td>All</td>\n",
       "      <td>0.006100</td>\n",
       "      <td>0.020029</td>\n",
       "      <td>0.304560</td>\n",
       "      <td>-69.5%</td>\n",
       "      <td>0.000007</td>\n",
       "      <td>0.000027</td>\n",
       "      <td>0.259259</td>\n",
       "      <td>-74.1%</td>\n",
       "    </tr>\n",
       "    <tr>\n",
       "      <th>1</th>\n",
       "      <td>All</td>\n",
       "      <td>1KGP</td>\n",
       "      <td>0.020029</td>\n",
       "      <td>0.006100</td>\n",
       "      <td>3.283422</td>\n",
       "      <td>228.3%</td>\n",
       "      <td>0.000027</td>\n",
       "      <td>0.000007</td>\n",
       "      <td>3.857143</td>\n",
       "      <td>285.7%</td>\n",
       "    </tr>\n",
       "    <tr>\n",
       "      <th>2</th>\n",
       "      <td>1KGP</td>\n",
       "      <td>TOPMed</td>\n",
       "      <td>0.006100</td>\n",
       "      <td>0.002819</td>\n",
       "      <td>2.163749</td>\n",
       "      <td>116.4%</td>\n",
       "      <td>0.000007</td>\n",
       "      <td>0.000004</td>\n",
       "      <td>1.750000</td>\n",
       "      <td>75.0%</td>\n",
       "    </tr>\n",
       "    <tr>\n",
       "      <th>3</th>\n",
       "      <td>TOPMed</td>\n",
       "      <td>1KGP</td>\n",
       "      <td>0.002819</td>\n",
       "      <td>0.006100</td>\n",
       "      <td>0.462161</td>\n",
       "      <td>-53.8%</td>\n",
       "      <td>0.000004</td>\n",
       "      <td>0.000007</td>\n",
       "      <td>0.571429</td>\n",
       "      <td>-42.9%</td>\n",
       "    </tr>\n",
       "    <tr>\n",
       "      <th>4</th>\n",
       "      <td>1KGP</td>\n",
       "      <td>gnomAD</td>\n",
       "      <td>0.006100</td>\n",
       "      <td>0.007951</td>\n",
       "      <td>0.767191</td>\n",
       "      <td>-23.3%</td>\n",
       "      <td>0.000007</td>\n",
       "      <td>0.000007</td>\n",
       "      <td>1.000000</td>\n",
       "      <td>0.0%</td>\n",
       "    </tr>\n",
       "    <tr>\n",
       "      <th>5</th>\n",
       "      <td>gnomAD</td>\n",
       "      <td>1KGP</td>\n",
       "      <td>0.007951</td>\n",
       "      <td>0.006100</td>\n",
       "      <td>1.303457</td>\n",
       "      <td>30.3%</td>\n",
       "      <td>0.000007</td>\n",
       "      <td>0.000007</td>\n",
       "      <td>1.000000</td>\n",
       "      <td>0.0%</td>\n",
       "    </tr>\n",
       "    <tr>\n",
       "      <th>6</th>\n",
       "      <td>All</td>\n",
       "      <td>TOPMed</td>\n",
       "      <td>0.020029</td>\n",
       "      <td>0.002819</td>\n",
       "      <td>7.104500</td>\n",
       "      <td>610.5%</td>\n",
       "      <td>0.000027</td>\n",
       "      <td>0.000004</td>\n",
       "      <td>6.750000</td>\n",
       "      <td>575.0%</td>\n",
       "    </tr>\n",
       "    <tr>\n",
       "      <th>7</th>\n",
       "      <td>TOPMed</td>\n",
       "      <td>All</td>\n",
       "      <td>0.002819</td>\n",
       "      <td>0.020029</td>\n",
       "      <td>0.140756</td>\n",
       "      <td>-85.9%</td>\n",
       "      <td>0.000004</td>\n",
       "      <td>0.000027</td>\n",
       "      <td>0.148148</td>\n",
       "      <td>-85.2%</td>\n",
       "    </tr>\n",
       "    <tr>\n",
       "      <th>8</th>\n",
       "      <td>All</td>\n",
       "      <td>gnomAD</td>\n",
       "      <td>0.020029</td>\n",
       "      <td>0.007951</td>\n",
       "      <td>2.519010</td>\n",
       "      <td>151.9%</td>\n",
       "      <td>0.000027</td>\n",
       "      <td>0.000007</td>\n",
       "      <td>3.857143</td>\n",
       "      <td>285.7%</td>\n",
       "    </tr>\n",
       "    <tr>\n",
       "      <th>9</th>\n",
       "      <td>gnomAD</td>\n",
       "      <td>All</td>\n",
       "      <td>0.007951</td>\n",
       "      <td>0.020029</td>\n",
       "      <td>0.396981</td>\n",
       "      <td>-60.3%</td>\n",
       "      <td>0.000007</td>\n",
       "      <td>0.000027</td>\n",
       "      <td>0.259259</td>\n",
       "      <td>-74.1%</td>\n",
       "    </tr>\n",
       "    <tr>\n",
       "      <th>10</th>\n",
       "      <td>TOPMed</td>\n",
       "      <td>gnomAD</td>\n",
       "      <td>0.002819</td>\n",
       "      <td>0.007951</td>\n",
       "      <td>0.354565</td>\n",
       "      <td>-64.5%</td>\n",
       "      <td>0.000004</td>\n",
       "      <td>0.000007</td>\n",
       "      <td>0.571429</td>\n",
       "      <td>-42.9%</td>\n",
       "    </tr>\n",
       "    <tr>\n",
       "      <th>11</th>\n",
       "      <td>gnomAD</td>\n",
       "      <td>TOPMed</td>\n",
       "      <td>0.007951</td>\n",
       "      <td>0.002819</td>\n",
       "      <td>2.820354</td>\n",
       "      <td>182.0%</td>\n",
       "      <td>0.000007</td>\n",
       "      <td>0.000004</td>\n",
       "      <td>1.750000</td>\n",
       "      <td>75.0%</td>\n",
       "    </tr>\n",
       "  </tbody>\n",
       "</table>\n",
       "</div>"
      ],
      "text/plain": [
       "   Group A Group B    A Mean    B Mean  A/B Mu Ratio Mu A Pct Inc of B  \\\n",
       "0     1KGP     All  0.006100  0.020029      0.304560            -69.5%   \n",
       "1      All    1KGP  0.020029  0.006100      3.283422            228.3%   \n",
       "2     1KGP  TOPMed  0.006100  0.002819      2.163749            116.4%   \n",
       "3   TOPMed    1KGP  0.002819  0.006100      0.462161            -53.8%   \n",
       "4     1KGP  gnomAD  0.006100  0.007951      0.767191            -23.3%   \n",
       "5   gnomAD    1KGP  0.007951  0.006100      1.303457             30.3%   \n",
       "6      All  TOPMed  0.020029  0.002819      7.104500            610.5%   \n",
       "7   TOPMed     All  0.002819  0.020029      0.140756            -85.9%   \n",
       "8      All  gnomAD  0.020029  0.007951      2.519010            151.9%   \n",
       "9   gnomAD     All  0.007951  0.020029      0.396981            -60.3%   \n",
       "10  TOPMed  gnomAD  0.002819  0.007951      0.354565            -64.5%   \n",
       "11  gnomAD  TOPMed  0.007951  0.002819      2.820354            182.0%   \n",
       "\n",
       "    A Median  B Median  A/B Med Ratio Med A Pct Inc of B  \n",
       "0   0.000007  0.000027       0.259259             -74.1%  \n",
       "1   0.000027  0.000007       3.857143             285.7%  \n",
       "2   0.000007  0.000004       1.750000              75.0%  \n",
       "3   0.000004  0.000007       0.571429             -42.9%  \n",
       "4   0.000007  0.000007       1.000000               0.0%  \n",
       "5   0.000007  0.000007       1.000000               0.0%  \n",
       "6   0.000027  0.000004       6.750000             575.0%  \n",
       "7   0.000004  0.000027       0.148148             -85.2%  \n",
       "8   0.000027  0.000007       3.857143             285.7%  \n",
       "9   0.000007  0.000027       0.259259             -74.1%  \n",
       "10  0.000004  0.000007       0.571429             -42.9%  \n",
       "11  0.000007  0.000004       1.750000              75.0%  "
      ]
     },
     "execution_count": 36,
     "metadata": {},
     "output_type": "execute_result"
    }
   ],
   "source": [
    "def pct_inc(a, b):\n",
    "    increase = a - b\n",
    "    pct_inc = increase / b * 100\n",
    "    return \"{:.1f}%\".format(pct_inc)\n",
    "def mk_row(a, b, k):\n",
    "    a_mean = k.loc[a][\"mean\"]\n",
    "    b_mean = k.loc[b][\"mean\"]\n",
    "    mu_rat = a_mean / b_mean\n",
    "    mu_pct = pct_inc(a_mean, b_mean)\n",
    "\n",
    "    a_med = k.loc[a][\"50%\"]\n",
    "    b_med = k.loc[b][\"50%\"]\n",
    "    med_rat = a_med / b_med\n",
    "    med_pct = pct_inc(a_med, b_med)\n",
    "    return [a, b, a_mean, b_mean, a_mean / b_mean, pct_inc(a_mean, b_mean), \n",
    "            a_med,  b_med, a_med / b_med, pct_inc(a_med, b_med)]\n",
    "\n",
    "rows = []\n",
    "for a, b in itertools.combinations(known_sum.index, 2):\n",
    "        rows.append(mk_row(a, b, known_sum))\n",
    "        rows.append(mk_row(b, a, known_sum))\n",
    "known_changes = pd.DataFrame(rows, columns=[\"Group A\", \"Group B\", \n",
    "                                            \"A Mean\", \"B Mean\", \"A/B Mu Ratio\", \"Mu A Pct Inc of B\",\n",
    "                                           \"A Median\", \"B Median\", \"A/B Med Ratio\", \"Med A Pct Inc of B\"])\n",
    "known_changes"
   ]
  },
  {
   "cell_type": "code",
   "execution_count": 37,
   "metadata": {},
   "outputs": [
    {
     "name": "stdout",
     "output_type": "stream",
     "text": [
      "pct of SVs with any overlap 0.5398450361563573\n",
      "Pct of SV types with any overlap\n",
      "svtype\n",
      "DEL    0.568250\n",
      "INS         NaN\n",
      "DUP    0.497244\n",
      "INV    0.462419\n",
      "NON         NaN\n",
      "UNK         NaN\n",
      "dtype: float64\n",
      "known\n",
      "1KGP      0.099280\n",
      "All       0.185777\n",
      "TOPMed    0.460155\n",
      "gnomAD    0.254789\n",
      "dtype: float64\n",
      "gnomad pcts\n",
      "svtype\n",
      "DEL    0.631802\n",
      "DUP    0.272028\n",
      "INV    0.096171\n",
      "Name: gnomAD, dtype: float64\n",
      "1kg pcts\n",
      "svtype\n",
      "DEL    0.600441\n",
      "DUP    0.219021\n",
      "INV    0.180537\n",
      "Name: 1KGP, dtype: float64\n"
     ]
    },
    {
     "data": {
      "text/plain": [
       "known\n",
       "1KGP       35339\n",
       "All        66128\n",
       "TOPMed    163794\n",
       "gnomAD     90693\n",
       "dtype: int64"
      ]
     },
     "execution_count": 37,
     "metadata": {},
     "output_type": "execute_result"
    }
   ],
   "source": [
    "v = data.groupby([\"svtype\", \"known\"]).size().unstack().loc[[\"DEL\", \"DUP\", \"INV\"]]\n",
    "print(\"pct of SVs with any overlap\", 1 - (v[\"TOPMed\"].sum() / len(data)))\n",
    "print(\"Pct of SV types with any overlap\")\n",
    "print(v[[\"1KGP\", \"All\", \"gnomAD\"]].sum(axis=1)  / data.groupby(['svtype']).size())\n",
    "print(v.sum() / len(data))\n",
    "print(\"gnomad pcts\")\n",
    "print(v[\"gnomAD\"] / data[\"known\"].value_counts()[\"gnomAD\"])\n",
    "print(\"1kg pcts\")\n",
    "print(v[\"1KGP\"] / data[\"known\"].value_counts()[\"1KGP\"])\n",
    "v.sum()"
   ]
  },
  {
   "cell_type": "code",
   "execution_count": 40,
   "metadata": {},
   "outputs": [
    {
     "name": "stdout",
     "output_type": "stream",
     "text": [
      "gnomad Shared pct 0.4405653539502295\n",
      "1kg Shared pct 0.28505649606409816\n"
     ]
    }
   ],
   "source": [
    "print(\"gnomad Shared pct\", v[[\"gnomAD\", \"All\"]].sum().sum() / len(data))\n",
    "print(\"1kg Shared pct\", v[[\"1KGP\", \"All\"]].sum().sum() / len(data))"
   ]
  },
  {
   "cell_type": "code",
   "execution_count": 43,
   "metadata": {},
   "outputs": [
    {
     "name": "stdout",
     "output_type": "stream",
     "text": [
      "svtype\n",
      "DEL    110511\n",
      "DUP     35476\n",
      "INV     10834\n",
      "dtype: int64\n"
     ]
    },
    {
     "data": {
      "text/plain": [
       "svtype\n",
       "DEL    0.704695\n",
       "DUP    0.226220\n",
       "INV    0.069085\n",
       "dtype: float64"
      ]
     },
     "execution_count": 43,
     "metadata": {},
     "output_type": "execute_result"
    }
   ],
   "source": [
    "print(v[[\"gnomAD\", \"All\"]].sum(axis=1))\n",
    "v[[\"gnomAD\", \"All\"]].sum(axis=1) / v[[\"gnomAD\", \"All\"]].sum().sum()"
   ]
  },
  {
   "cell_type": "code",
   "execution_count": 44,
   "metadata": {},
   "outputs": [
    {
     "name": "stdout",
     "output_type": "stream",
     "text": [
      "svtype\n",
      "DEL    74430\n",
      "DUP    18545\n",
      "INV     8492\n",
      "dtype: int64\n"
     ]
    },
    {
     "data": {
      "text/plain": [
       "svtype\n",
       "DEL    0.733539\n",
       "DUP    0.182769\n",
       "INV    0.083692\n",
       "dtype: float64"
      ]
     },
     "execution_count": 44,
     "metadata": {},
     "output_type": "execute_result"
    }
   ],
   "source": [
    "print(v[[\"1KGP\", \"All\"]].sum(axis=1))\n",
    "v[[\"1KGP\", \"All\"]].sum(axis=1) / v[[\"1KGP\", \"All\"]].sum().sum()"
   ]
  },
  {
   "cell_type": "code",
   "execution_count": 47,
   "metadata": {},
   "outputs": [
    {
     "data": {
      "text/plain": [
       "0.46015496384364274"
      ]
     },
     "execution_count": 47,
     "metadata": {},
     "output_type": "execute_result"
    }
   ],
   "source": [
    "v[\"TOPMed\"].sum() / len(data)"
   ]
  },
  {
   "cell_type": "code",
   "execution_count": 49,
   "metadata": {},
   "outputs": [
    {
     "data": {
      "text/plain": [
       "svtype\n",
       "DEL    0.431750\n",
       "INS         NaN\n",
       "DUP    0.502756\n",
       "INV    0.537581\n",
       "NON         NaN\n",
       "UNK         NaN\n",
       "dtype: float64"
      ]
     },
     "execution_count": 49,
     "metadata": {},
     "output_type": "execute_result"
    }
   ],
   "source": [
    "v[\"TOPMed\"] / data.groupby([\"svtype\"]).size()"
   ]
  },
  {
   "cell_type": "code",
   "execution_count": 50,
   "metadata": {},
   "outputs": [
    {
     "data": {
      "text/plain": [
       "svtype\n",
       "DEL    100087\n",
       "DUP     43695\n",
       "INV     20012\n",
       "Name: TOPMed, dtype: int64"
      ]
     },
     "execution_count": 50,
     "metadata": {},
     "output_type": "execute_result"
    }
   ],
   "source": [
    "v[\"TOPMed\"]"
   ]
  },
  {
   "cell_type": "code",
   "execution_count": 52,
   "metadata": {},
   "outputs": [
    {
     "data": {
      "text/plain": [
       "Index(['id', 'svtype', 'svlen', 'szbin', 'qual', 'filter', 'is_pass', 'AC',\n",
       "       'NS', 'AF', 'CALLRATE', 'END', 'SVLEN', 'SVTYPE', 'Biallelic', 'GD_AF',\n",
       "       'GD_ID', '1000g_event', 'GTCNT', 'Gene_name', 'AFBin', 'GDAFBin',\n",
       "       'is_gnomAD', 'is_1000g', 'known', 'count', 'big_bins', 'UNK', 'REF',\n",
       "       'HET', 'HOM', 'missing_pct'],\n",
       "      dtype='object')"
      ]
     },
     "execution_count": 52,
     "metadata": {},
     "output_type": "execute_result"
    }
   ],
   "source": [
    "data.columns"
   ]
  },
  {
   "cell_type": "code",
   "execution_count": 60,
   "metadata": {},
   "outputs": [
    {
     "name": "stdout",
     "output_type": "stream",
     "text": [
      "(0.849183237812575, 0.0)\n"
     ]
    }
   ],
   "source": [
    "x = data[is_gd & (data[\"AF\"] >= 0.01)][\"AF\"]\n",
    "y = data[is_gd & (data[\"AF\"] >= 0.01)][\"GD_AF\"]\n",
    "print(stats.pearsonr(x, y))"
   ]
  },
  {
   "cell_type": "raw",
   "metadata": {},
   "source": [
    "To evaluate the novelty of SV discovery in this TOPMed SV call set, we compared our SV catalog with gnomAD-SV (14,891 samples) and the 1KGP (2,506 samples) callsets, which capture variants with allele frequency down to 0.01, and 0.1%, respectively. Across SV types, 52% of our SVs have overlap with at least one of these catalogs, with the highest overlap for deletions (56.8%) followed by duplications (48.0%) and inversions (46.2%). The variants unique to the TOPMed callset are consistent with the number of rare events detected using increased sample sizes. Figure 3B shows the overlap of the TOPMed SV call set to 1KGP and gnomAD SV with respect to the allele frequency of the variants. We observe events found in all three catalogs having the highest mean allele frequency (1.9%) and events exclusively contained in TOPMed having the lowest (0.4%). As expected, we observed a larger overlap with gnomAD-SV (44.05% of calls) compared to 1KGP (28.50%). Our call sets also includes a high number of singletons at 168,307 (47.28% of calls), 45% of which overlap with a gnomAD or 1KGP call. For variants estimated to be shared across individuals (AF >= 0.01) and overlapping between TOPMed and gnomAD, the Pearsons correleation coefficient between reported allele frequencies is 0.85.\n",
    "\n"
   ]
  },
  {
   "cell_type": "code",
   "execution_count": 63,
   "metadata": {},
   "outputs": [
    {
     "data": {
      "text/plain": [
       "TOPMed    0.261646\n",
       "gnomAD    0.105736\n",
       "All       0.055900\n",
       "1KGP      0.049551\n",
       "Name: known, dtype: float64"
      ]
     },
     "execution_count": 63,
     "metadata": {},
     "output_type": "execute_result"
    }
   ],
   "source": [
    "data[singletons][\"known\"].value_counts() / len(data)"
   ]
  },
  {
   "cell_type": "code",
   "execution_count": 64,
   "metadata": {},
   "outputs": [
    {
     "data": {
      "text/plain": [
       "TOPMed    0.553358\n",
       "gnomAD    0.223621\n",
       "All       0.118224\n",
       "1KGP      0.104797\n",
       "Name: known, dtype: float64"
      ]
     },
     "execution_count": 64,
     "metadata": {},
     "output_type": "execute_result"
    }
   ],
   "source": [
    "data[singletons][\"known\"].value_counts() / singletons.sum()"
   ]
  },
  {
   "cell_type": "code",
   "execution_count": 66,
   "metadata": {},
   "outputs": [
    {
     "data": {
      "text/plain": [
       "163794"
      ]
     },
     "execution_count": 66,
     "metadata": {},
     "output_type": "execute_result"
    }
   ],
   "source": [
    "v[\"TOPMed\"].sum()"
   ]
  },
  {
   "cell_type": "code",
   "execution_count": null,
   "metadata": {},
   "outputs": [],
   "source": []
  }
 ],
 "metadata": {
  "kernelspec": {
   "display_name": "Python 3 (ipykernel)",
   "language": "python",
   "name": "python3"
  },
  "language_info": {
   "codemirror_mode": {
    "name": "ipython",
    "version": 3
   },
   "file_extension": ".py",
   "mimetype": "text/x-python",
   "name": "python",
   "nbconvert_exporter": "python",
   "pygments_lexer": "ipython3",
   "version": "3.9.6"
  },
  "toc": {
   "base_numbering": 1,
   "nav_menu": {},
   "number_sections": true,
   "sideBar": true,
   "skip_h1_title": false,
   "title_cell": "Table of Contents",
   "title_sidebar": "Contents",
   "toc_cell": false,
   "toc_position": {},
   "toc_section_display": true,
   "toc_window_display": false
  }
 },
 "nbformat": 4,
 "nbformat_minor": 4
}
