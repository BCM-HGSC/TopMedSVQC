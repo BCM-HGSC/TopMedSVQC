{
 "cells": [
  {
   "cell_type": "code",
   "execution_count": 3,
   "id": "fe1dd887-3bc3-4401-ac1c-fd85abb787c0",
   "metadata": {},
   "outputs": [],
   "source": [
    "import pandas as pd\n",
    "import seaborn as sb\n",
    "import joblib\n",
    "import numpy as np\n",
    "\n",
    "from IPython.display import display\n",
    "from IPython.display import display_html \n"
   ]
  },
  {
   "cell_type": "code",
   "execution_count": 58,
   "id": "b6c74e89-ac22-4804-863f-c5e32e1cbdb5",
   "metadata": {},
   "outputs": [],
   "source": [
    "raw_data = joblib.load(\"../results/topmed.freeze1.1.dbvar.svafotate.jl\")\n",
    "raw_data['is_single'] = raw_data[\"AC\"] == 1\n",
    "raw_data['gnomad'] = raw_data[\"gnomAD_Count\"] != 0\n",
    "raw_data['1000g'] = raw_data[\"1000G_Count\"] != 0\n",
    "raw_data['ccdg'] = raw_data[\"CCDG_Count\"] != 0\n",
    "raw_data['is_known'] = raw_data['gnomad'] | raw_data['1000g'] | raw_data['ccdg']\n",
    "raw_data['is_pass'] = raw_data['filter'].apply(lambda x: \"PASS\" in x)\n",
    "\n",
    "data = raw_data[(raw_data['chrom'] != \"chrX\") & (raw_data['svlen'] >= 50)].copy()\n",
    "all_known = data[data['is_pass']].groupby(['svtype', 'is_known']).size().unstack()\n",
    "single_known = data[data['is_pass'] & data['is_single']].groupby(['svtype', 'is_known']).size().unstack()\n",
    "\n",
    "all_known['known_pct'] = all_known[True] / all_known.sum(axis=1)\n",
    "single_known['known_pct'] = single_known[True] / all_known.sum(axis=1)"
   ]
  },
  {
   "cell_type": "markdown",
   "id": "d8e2dba0-c15d-4b9b-9216-035aff501983",
   "metadata": {},
   "source": [
    "# How many TopMed variants intersect with one of the other cohorts?"
   ]
  },
  {
   "cell_type": "code",
   "execution_count": 78,
   "id": "0c86ab63-deb9-490a-a89c-d991e460f864",
   "metadata": {},
   "outputs": [
    {
     "name": "stdout",
     "output_type": "stream",
     "text": [
      "0.7200915789229017\n",
      "0.2799084210770983\n"
     ]
    },
    {
     "data": {
      "text/plain": [
       "False    247844\n",
       "True      96340\n",
       "Name: is_known, dtype: int64"
      ]
     },
     "execution_count": 78,
     "metadata": {},
     "output_type": "execute_result"
    }
   ],
   "source": [
    "view = data[data['is_pass']]['is_known'].value_counts()\n",
    "print(view[False] / view.sum())\n",
    "print(view[True] / view.sum())\n",
    "view"
   ]
  },
  {
   "cell_type": "markdown",
   "id": "cfe78817-990f-43de-88ac-9553ac4901a2",
   "metadata": {},
   "source": [
    "# Lets look at this by SVTYPE"
   ]
  },
  {
   "cell_type": "code",
   "execution_count": 30,
   "id": "66f88e48-22f0-4470-ac76-acea24919b5e",
   "metadata": {},
   "outputs": [
    {
     "data": {
      "text/html": [
       "<div>\n",
       "<style scoped>\n",
       "    .dataframe tbody tr th:only-of-type {\n",
       "        vertical-align: middle;\n",
       "    }\n",
       "\n",
       "    .dataframe tbody tr th {\n",
       "        vertical-align: top;\n",
       "    }\n",
       "\n",
       "    .dataframe thead th {\n",
       "        text-align: right;\n",
       "    }\n",
       "</style>\n",
       "<table border=\"1\" class=\"dataframe\">\n",
       "  <thead>\n",
       "    <tr style=\"text-align: right;\">\n",
       "      <th>is_known</th>\n",
       "      <th>False</th>\n",
       "      <th>True</th>\n",
       "      <th>known_pct</th>\n",
       "      <th>novel_pct</th>\n",
       "    </tr>\n",
       "    <tr>\n",
       "      <th>svtype</th>\n",
       "      <th></th>\n",
       "      <th></th>\n",
       "      <th></th>\n",
       "      <th></th>\n",
       "    </tr>\n",
       "  </thead>\n",
       "  <tbody>\n",
       "    <tr>\n",
       "      <th>DEL</th>\n",
       "      <td>144408</td>\n",
       "      <td>78095</td>\n",
       "      <td>0.350984</td>\n",
       "      <td>0.649016</td>\n",
       "    </tr>\n",
       "    <tr>\n",
       "      <th>DUP</th>\n",
       "      <td>71666</td>\n",
       "      <td>16825</td>\n",
       "      <td>0.190132</td>\n",
       "      <td>0.809868</td>\n",
       "    </tr>\n",
       "    <tr>\n",
       "      <th>INV</th>\n",
       "      <td>31770</td>\n",
       "      <td>1420</td>\n",
       "      <td>0.042784</td>\n",
       "      <td>0.957216</td>\n",
       "    </tr>\n",
       "  </tbody>\n",
       "</table>\n",
       "</div>"
      ],
      "text/plain": [
       "is_known   False   True  known_pct  novel_pct\n",
       "svtype                                       \n",
       "DEL       144408  78095   0.350984   0.649016\n",
       "DUP        71666  16825   0.190132   0.809868\n",
       "INV        31770   1420   0.042784   0.957216"
      ]
     },
     "execution_count": 30,
     "metadata": {},
     "output_type": "execute_result"
    }
   ],
   "source": [
    "all_known['novel_pct'] = 1 - all_known['known_pct']\n",
    "all_known.loc[[\"DEL\", \"DUP\", \"INV\"]]"
   ]
  },
  {
   "cell_type": "markdown",
   "id": "6fae7750-e538-4fef-bd85-5f205fb35440",
   "metadata": {},
   "source": [
    "# How many TopMed singletons (AC==1) are known?"
   ]
  },
  {
   "cell_type": "code",
   "execution_count": 33,
   "id": "cf55e804-3875-416e-b7c6-546871f46d03",
   "metadata": {},
   "outputs": [
    {
     "data": {
      "text/html": [
       "<div>\n",
       "<style scoped>\n",
       "    .dataframe tbody tr th:only-of-type {\n",
       "        vertical-align: middle;\n",
       "    }\n",
       "\n",
       "    .dataframe tbody tr th {\n",
       "        vertical-align: top;\n",
       "    }\n",
       "\n",
       "    .dataframe thead th {\n",
       "        text-align: right;\n",
       "    }\n",
       "</style>\n",
       "<table border=\"1\" class=\"dataframe\">\n",
       "  <thead>\n",
       "    <tr style=\"text-align: right;\">\n",
       "      <th>is_known</th>\n",
       "      <th>False</th>\n",
       "      <th>True</th>\n",
       "      <th>known_pct</th>\n",
       "    </tr>\n",
       "    <tr>\n",
       "      <th>svtype</th>\n",
       "      <th></th>\n",
       "      <th></th>\n",
       "      <th></th>\n",
       "    </tr>\n",
       "  </thead>\n",
       "  <tbody>\n",
       "    <tr>\n",
       "      <th>DEL</th>\n",
       "      <td>84122</td>\n",
       "      <td>14094</td>\n",
       "      <td>0.063343</td>\n",
       "    </tr>\n",
       "    <tr>\n",
       "      <th>DUP</th>\n",
       "      <td>40931</td>\n",
       "      <td>3637</td>\n",
       "      <td>0.041100</td>\n",
       "    </tr>\n",
       "    <tr>\n",
       "      <th>INV</th>\n",
       "      <td>18720</td>\n",
       "      <td>276</td>\n",
       "      <td>0.008316</td>\n",
       "    </tr>\n",
       "  </tbody>\n",
       "</table>\n",
       "</div>"
      ],
      "text/plain": [
       "is_known  False   True  known_pct\n",
       "svtype                           \n",
       "DEL       84122  14094   0.063343\n",
       "DUP       40931   3637   0.041100\n",
       "INV       18720    276   0.008316"
      ]
     },
     "execution_count": 33,
     "metadata": {},
     "output_type": "execute_result"
    }
   ],
   "source": [
    "single_known.loc[[\"DEL\", \"DUP\", \"INV\"]]"
   ]
  },
  {
   "cell_type": "markdown",
   "id": "bbf6a1e4-0ee6-4341-9e2a-20e27aaa47ed",
   "metadata": {},
   "source": [
    "# Intersection per-anno source\n",
    "How many topmed variants are found in the known annot sources using SVAFotate and min reciprocal overlap of 80\n",
    "\n",
    "This is just a more detailed view of the above information"
   ]
  },
  {
   "cell_type": "code",
   "execution_count": 34,
   "id": "604410f0-3073-4463-a36d-7613d2e28a13",
   "metadata": {},
   "outputs": [
    {
     "data": {
      "text/html": [
       "<div>\n",
       "<style scoped>\n",
       "    .dataframe tbody tr th:only-of-type {\n",
       "        vertical-align: middle;\n",
       "    }\n",
       "\n",
       "    .dataframe tbody tr th {\n",
       "        vertical-align: top;\n",
       "    }\n",
       "\n",
       "    .dataframe thead th {\n",
       "        text-align: right;\n",
       "    }\n",
       "</style>\n",
       "<table border=\"1\" class=\"dataframe\">\n",
       "  <thead>\n",
       "    <tr style=\"text-align: right;\">\n",
       "      <th></th>\n",
       "      <th>gnomad</th>\n",
       "      <th>1000g</th>\n",
       "      <th>ccdg</th>\n",
       "      <th>is_known</th>\n",
       "    </tr>\n",
       "  </thead>\n",
       "  <tbody>\n",
       "    <tr>\n",
       "      <th>DEL</th>\n",
       "      <td>52939</td>\n",
       "      <td>33844</td>\n",
       "      <td>42731</td>\n",
       "      <td>78095</td>\n",
       "    </tr>\n",
       "    <tr>\n",
       "      <th>DUP</th>\n",
       "      <td>10909</td>\n",
       "      <td>5312</td>\n",
       "      <td>7680</td>\n",
       "      <td>16825</td>\n",
       "    </tr>\n",
       "    <tr>\n",
       "      <th>INV</th>\n",
       "      <td>257</td>\n",
       "      <td>390</td>\n",
       "      <td>1248</td>\n",
       "      <td>1420</td>\n",
       "    </tr>\n",
       "    <tr>\n",
       "      <th>Total</th>\n",
       "      <td>64105</td>\n",
       "      <td>39546</td>\n",
       "      <td>51659</td>\n",
       "      <td>96340</td>\n",
       "    </tr>\n",
       "  </tbody>\n",
       "</table>\n",
       "</div>"
      ],
      "text/plain": [
       "       gnomad  1000g   ccdg  is_known\n",
       "DEL     52939  33844  42731     78095\n",
       "DUP     10909   5312   7680     16825\n",
       "INV       257    390   1248      1420\n",
       "Total   64105  39546  51659     96340"
      ]
     },
     "execution_count": 34,
     "metadata": {},
     "output_type": "execute_result"
    }
   ],
   "source": [
    "# intersection per-anno source\n",
    "rows = []\n",
    "srcs = ['gnomad', '1000g', 'ccdg', 'is_known']\n",
    "for i in srcs:\n",
    "    s = data[data['is_pass'] & (data[i] == True)]['svtype'].value_counts()\n",
    "    s.name = i\n",
    "    rows.append(s)\n",
    "peranno = pd.concat(rows, axis=1).loc[[\"DEL\", \"DUP\", \"INV\"]]\n",
    "peranno.loc[\"Total\"] = peranno.sum()\n",
    "peranno"
   ]
  },
  {
   "cell_type": "code",
   "execution_count": 35,
   "id": "05834043-59c4-4bab-9d89-79449cc2ab5a",
   "metadata": {},
   "outputs": [
    {
     "data": {
      "text/plain": [
       "DEL      0.226899\n",
       "DUP      0.048884\n",
       "INV      0.004126\n",
       "Total    0.279908\n",
       "Name: is_known, dtype: float64"
      ]
     },
     "execution_count": 35,
     "metadata": {},
     "output_type": "execute_result"
    }
   ],
   "source": [
    "peranno['is_known'] / len(data[data['is_pass']])"
   ]
  },
  {
   "cell_type": "markdown",
   "id": "af65831c-1e05-4292-9133-727586eaa4fe",
   "metadata": {},
   "source": [
    "# And do it again for singletons"
   ]
  },
  {
   "cell_type": "code",
   "execution_count": 36,
   "id": "00b1d359-3bd3-4479-8e81-ef3da3392cb0",
   "metadata": {},
   "outputs": [
    {
     "data": {
      "text/html": [
       "<div>\n",
       "<style scoped>\n",
       "    .dataframe tbody tr th:only-of-type {\n",
       "        vertical-align: middle;\n",
       "    }\n",
       "\n",
       "    .dataframe tbody tr th {\n",
       "        vertical-align: top;\n",
       "    }\n",
       "\n",
       "    .dataframe thead th {\n",
       "        text-align: right;\n",
       "    }\n",
       "</style>\n",
       "<table border=\"1\" class=\"dataframe\">\n",
       "  <thead>\n",
       "    <tr style=\"text-align: right;\">\n",
       "      <th></th>\n",
       "      <th>gnomad</th>\n",
       "      <th>1000g</th>\n",
       "      <th>ccdg</th>\n",
       "      <th>is_known</th>\n",
       "    </tr>\n",
       "  </thead>\n",
       "  <tbody>\n",
       "    <tr>\n",
       "      <th>DEL</th>\n",
       "      <td>7622</td>\n",
       "      <td>2188</td>\n",
       "      <td>7382</td>\n",
       "      <td>14094</td>\n",
       "    </tr>\n",
       "    <tr>\n",
       "      <th>DUP</th>\n",
       "      <td>1926</td>\n",
       "      <td>481</td>\n",
       "      <td>1762</td>\n",
       "      <td>3637</td>\n",
       "    </tr>\n",
       "    <tr>\n",
       "      <th>INV</th>\n",
       "      <td>57</td>\n",
       "      <td>56</td>\n",
       "      <td>216</td>\n",
       "      <td>276</td>\n",
       "    </tr>\n",
       "    <tr>\n",
       "      <th>Total</th>\n",
       "      <td>9605</td>\n",
       "      <td>2725</td>\n",
       "      <td>9360</td>\n",
       "      <td>18007</td>\n",
       "    </tr>\n",
       "  </tbody>\n",
       "</table>\n",
       "</div>"
      ],
      "text/plain": [
       "       gnomad  1000g  ccdg  is_known\n",
       "DEL      7622   2188  7382     14094\n",
       "DUP      1926    481  1762      3637\n",
       "INV        57     56   216       276\n",
       "Total    9605   2725  9360     18007"
      ]
     },
     "execution_count": 36,
     "metadata": {},
     "output_type": "execute_result"
    }
   ],
   "source": [
    "rows = []\n",
    "for i in srcs:\n",
    "    s = data[data['is_pass'] & (data[i] == True) & data['is_single']]['svtype'].value_counts()\n",
    "    s.name = i\n",
    "    rows.append(s)\n",
    "peranno_single = pd.concat(rows, axis=1).loc[[\"DEL\", \"DUP\", \"INV\"]]#, columns=[\"anno\", \"intersect\"])\n",
    "peranno_single.loc[\"Total\"] = peranno_single.sum()\n",
    "peranno_single"
   ]
  },
  {
   "cell_type": "code",
   "execution_count": 37,
   "id": "c8b24f1d-19a4-4fe0-ab00-eb785f8102c3",
   "metadata": {},
   "outputs": [
    {
     "name": "stdout",
     "output_type": "stream",
     "text": [
      "total number of singletons: 161780\n",
      "pct of all call 0.4700392813146457\n"
     ]
    },
    {
     "data": {
      "text/plain": [
       "DEL      0.087118\n",
       "DUP      0.022481\n",
       "INV      0.001706\n",
       "Total    0.111305\n",
       "Name: is_known, dtype: float64"
      ]
     },
     "execution_count": 37,
     "metadata": {},
     "output_type": "execute_result"
    }
   ],
   "source": [
    "denom = len(data[data['is_pass'] & data['is_single']])\n",
    "print(\"total number of singletons:\", denom)\n",
    "print(\"pct of all call\", denom / data['is_pass'].sum())\n",
    "peranno_single['is_known'] / denom"
   ]
  },
  {
   "cell_type": "markdown",
   "id": "cb0fce94-82a9-44ae-aa2b-a3f20dde38e9",
   "metadata": {},
   "source": [
    "# And do it again for non-singletons"
   ]
  },
  {
   "cell_type": "code",
   "execution_count": 38,
   "id": "18b7ac80-6661-419d-a0ee-5da41792cf64",
   "metadata": {},
   "outputs": [
    {
     "data": {
      "text/html": [
       "<div>\n",
       "<style scoped>\n",
       "    .dataframe tbody tr th:only-of-type {\n",
       "        vertical-align: middle;\n",
       "    }\n",
       "\n",
       "    .dataframe tbody tr th {\n",
       "        vertical-align: top;\n",
       "    }\n",
       "\n",
       "    .dataframe thead th {\n",
       "        text-align: right;\n",
       "    }\n",
       "</style>\n",
       "<table border=\"1\" class=\"dataframe\">\n",
       "  <thead>\n",
       "    <tr style=\"text-align: right;\">\n",
       "      <th></th>\n",
       "      <th>gnomad</th>\n",
       "      <th>1000g</th>\n",
       "      <th>ccdg</th>\n",
       "      <th>is_known</th>\n",
       "    </tr>\n",
       "  </thead>\n",
       "  <tbody>\n",
       "    <tr>\n",
       "      <th>DEL</th>\n",
       "      <td>45317</td>\n",
       "      <td>31656</td>\n",
       "      <td>35349</td>\n",
       "      <td>64001</td>\n",
       "    </tr>\n",
       "    <tr>\n",
       "      <th>DUP</th>\n",
       "      <td>8983</td>\n",
       "      <td>4831</td>\n",
       "      <td>5918</td>\n",
       "      <td>13188</td>\n",
       "    </tr>\n",
       "    <tr>\n",
       "      <th>INV</th>\n",
       "      <td>200</td>\n",
       "      <td>334</td>\n",
       "      <td>1032</td>\n",
       "      <td>1144</td>\n",
       "    </tr>\n",
       "    <tr>\n",
       "      <th>Total</th>\n",
       "      <td>54500</td>\n",
       "      <td>36821</td>\n",
       "      <td>42299</td>\n",
       "      <td>78333</td>\n",
       "    </tr>\n",
       "  </tbody>\n",
       "</table>\n",
       "</div>"
      ],
      "text/plain": [
       "       gnomad  1000g   ccdg  is_known\n",
       "DEL     45317  31656  35349     64001\n",
       "DUP      8983   4831   5918     13188\n",
       "INV       200    334   1032      1144\n",
       "Total   54500  36821  42299     78333"
      ]
     },
     "execution_count": 38,
     "metadata": {},
     "output_type": "execute_result"
    }
   ],
   "source": [
    "rows = []\n",
    "srcs = ['gnomad', '1000g', 'ccdg', 'is_known']\n",
    "for i in srcs:\n",
    "    s = data[data['is_pass'] & (data[i] == True) & ~data['is_single']]['svtype'].value_counts()\n",
    "    s.name = i\n",
    "    rows.append(s)\n",
    "peranno_nonsingle = pd.concat(rows, axis=1).loc[[\"DEL\", \"DUP\", \"INV\"]]\n",
    "peranno_nonsingle.loc[\"Total\"] = peranno_nonsingle.sum()\n",
    "peranno_nonsingle"
   ]
  },
  {
   "cell_type": "code",
   "execution_count": 39,
   "id": "7afca5e2-b897-472d-a527-b4d930936f0f",
   "metadata": {},
   "outputs": [
    {
     "name": "stdout",
     "output_type": "stream",
     "text": [
      "total number of non singletons: 182404\n",
      "pct of all call 0.5299607186853543\n"
     ]
    },
    {
     "data": {
      "text/plain": [
       "DEL      0.350875\n",
       "DUP      0.072301\n",
       "INV      0.006272\n",
       "Total    0.429448\n",
       "Name: is_known, dtype: float64"
      ]
     },
     "execution_count": 39,
     "metadata": {},
     "output_type": "execute_result"
    }
   ],
   "source": [
    "denom = len(data[data['is_pass'] & ~data['is_single']])\n",
    "print(\"total number of non singletons:\", denom)\n",
    "print(\"pct of all call\", denom / data['is_pass'].sum())\n",
    "peranno_nonsingle['is_known'] / denom"
   ]
  },
  {
   "cell_type": "markdown",
   "id": "6fbc43c6-53ee-462b-a298-16b4b7f88241",
   "metadata": {},
   "source": [
    "## Interesting observation:\n",
    "\n",
    "Even though we make more variant calls (376K compared to 2nd largest gnomad at 219K), our number of single sample calls found in other cohorts aren't proportionally larger than others. For example, 2284 of our single sample DELs intersect with any other cohort while 2014 of gnomAD's single sample DELs intersect with any other cohort.\n",
    "\n",
    "These numbers are 410 TopMed / 435 gnomAD for Duplications and 15 TopMed /16 gnomAD for Inversions.\n",
    "\n",
    "So TopMed has ~1.5x more variants, but approximately equal counts of single sample calls shared across cohorts."
   ]
  },
  {
   "cell_type": "code",
   "execution_count": 40,
   "id": "275f88b0-673e-4e0f-8849-5dbbf8908752",
   "metadata": {},
   "outputs": [],
   "source": [
    "# Official figure\n",
    "everyone = joblib.load(\"../topmed_known_svafotate/biginter_all.autosome.jl\")\n",
    "single = joblib.load(\"../topmed_known_svafotate/biginter_single.autosome.jl\")\n",
    "nonsingle = joblib.load(\"../topmed_known_svafotate/biginter_nonsingle.autosome.jl\")"
   ]
  },
  {
   "cell_type": "code",
   "execution_count": 41,
   "id": "5973bb8e-6488-42cb-867e-880b2728406a",
   "metadata": {},
   "outputs": [],
   "source": [
    "# How many of a_src overlap b_src as a percent.\n",
    "index = [\"1000G\", \"CCDG\", \"gnomAD\", \"TopMed\"]\n",
    "\n",
    "def make_pct(dat, row, col):\n",
    "    if row == col:\n",
    "        return np.nan\n",
    "    j = dat[(dat[\"a_src\"] == row) & (dat[\"b_src\"] == col)].sum(axis=0)\n",
    "    if j['ab_ovl'] != 0:\n",
    "        pct = j['ab_ovl'] / j['a_cnt']\n",
    "    else:\n",
    "        pct = 0\n",
    "    return pct\n",
    "\n",
    "a_matrix = []\n",
    "s_matrix = []\n",
    "ns_matrix = []\n",
    "for row in index:\n",
    "    cur_a_row = []\n",
    "    cur_s_row = []\n",
    "    cur_ns_row = []\n",
    "    for col in index:\n",
    "        cur_a_row.append(make_pct(everyone, row, col))\n",
    "        cur_s_row.append(make_pct(single, row, col))\n",
    "        cur_ns_row.append(make_pct(nonsingle, row, col))\n",
    "    a_matrix.append(cur_a_row)\n",
    "    s_matrix.append(cur_s_row)\n",
    "    ns_matrix.append(cur_ns_row)\n",
    "a_matrix = pd.DataFrame(a_matrix, index=index, columns=index)\n",
    "s_matrix = pd.DataFrame(s_matrix, index=index, columns=index)\n",
    "ns_matrix = pd.DataFrame(ns_matrix, index=index, columns=index)"
   ]
  },
  {
   "cell_type": "code",
   "execution_count": 42,
   "id": "935e0b57-263d-4822-8bc0-98279f613cbc",
   "metadata": {},
   "outputs": [
    {
     "data": {
      "text/html": [
       "<div>\n",
       "<style scoped>\n",
       "    .dataframe tbody tr th:only-of-type {\n",
       "        vertical-align: middle;\n",
       "    }\n",
       "\n",
       "    .dataframe tbody tr th {\n",
       "        vertical-align: top;\n",
       "    }\n",
       "\n",
       "    .dataframe thead th {\n",
       "        text-align: right;\n",
       "    }\n",
       "</style>\n",
       "<table border=\"1\" class=\"dataframe\">\n",
       "  <thead>\n",
       "    <tr style=\"text-align: right;\">\n",
       "      <th></th>\n",
       "      <th>1000G</th>\n",
       "      <th>CCDG</th>\n",
       "      <th>gnomAD</th>\n",
       "      <th>TopMed</th>\n",
       "    </tr>\n",
       "  </thead>\n",
       "  <tbody>\n",
       "    <tr>\n",
       "      <th>1000G</th>\n",
       "      <td>NaN</td>\n",
       "      <td>20.4</td>\n",
       "      <td>38.4</td>\n",
       "      <td>28.0</td>\n",
       "    </tr>\n",
       "    <tr>\n",
       "      <th>CCDG</th>\n",
       "      <td>14.9</td>\n",
       "      <td>NaN</td>\n",
       "      <td>24.2</td>\n",
       "      <td>27.7</td>\n",
       "    </tr>\n",
       "    <tr>\n",
       "      <th>gnomAD</th>\n",
       "      <td>20.4</td>\n",
       "      <td>17.9</td>\n",
       "      <td>NaN</td>\n",
       "      <td>25.5</td>\n",
       "    </tr>\n",
       "    <tr>\n",
       "      <th>TopMed</th>\n",
       "      <td>11.1</td>\n",
       "      <td>14.5</td>\n",
       "      <td>17.9</td>\n",
       "      <td>NaN</td>\n",
       "    </tr>\n",
       "  </tbody>\n",
       "</table>\n",
       "</div>"
      ],
      "text/plain": [
       "        1000G  CCDG  gnomAD  TopMed\n",
       "1000G     NaN  20.4    38.4    28.0\n",
       "CCDG     14.9   NaN    24.2    27.7\n",
       "gnomAD   20.4  17.9     NaN    25.5\n",
       "TopMed   11.1  14.5    17.9     NaN"
      ]
     },
     "execution_count": 42,
     "metadata": {},
     "output_type": "execute_result"
    }
   ],
   "source": [
    "# What percent of ROW cohorts intersect with a COL call (of same type and 80% reciprocal overlap).\n",
    "(a_matrix * 100).round(1)"
   ]
  },
  {
   "cell_type": "code",
   "execution_count": 43,
   "id": "0e2c1240-738b-4ea5-9316-ee87e0402db3",
   "metadata": {},
   "outputs": [
    {
     "data": {
      "text/html": [
       "<div>\n",
       "<style scoped>\n",
       "    .dataframe tbody tr th:only-of-type {\n",
       "        vertical-align: middle;\n",
       "    }\n",
       "\n",
       "    .dataframe tbody tr th {\n",
       "        vertical-align: top;\n",
       "    }\n",
       "\n",
       "    .dataframe thead th {\n",
       "        text-align: right;\n",
       "    }\n",
       "</style>\n",
       "<table border=\"1\" class=\"dataframe\">\n",
       "  <thead>\n",
       "    <tr style=\"text-align: right;\">\n",
       "      <th></th>\n",
       "      <th>1000G</th>\n",
       "      <th>CCDG</th>\n",
       "      <th>gnomAD</th>\n",
       "      <th>TopMed</th>\n",
       "    </tr>\n",
       "  </thead>\n",
       "  <tbody>\n",
       "    <tr>\n",
       "      <th>1000G</th>\n",
       "      <td>NaN</td>\n",
       "      <td>13.8</td>\n",
       "      <td>20.8</td>\n",
       "      <td>15.9</td>\n",
       "    </tr>\n",
       "    <tr>\n",
       "      <th>CCDG</th>\n",
       "      <td>0.0</td>\n",
       "      <td>NaN</td>\n",
       "      <td>0.0</td>\n",
       "      <td>0.0</td>\n",
       "    </tr>\n",
       "    <tr>\n",
       "      <th>gnomAD</th>\n",
       "      <td>5.7</td>\n",
       "      <td>14.2</td>\n",
       "      <td>NaN</td>\n",
       "      <td>22.1</td>\n",
       "    </tr>\n",
       "    <tr>\n",
       "      <th>TopMed</th>\n",
       "      <td>2.3</td>\n",
       "      <td>6.4</td>\n",
       "      <td>6.8</td>\n",
       "      <td>NaN</td>\n",
       "    </tr>\n",
       "  </tbody>\n",
       "</table>\n",
       "</div>"
      ],
      "text/plain": [
       "        1000G  CCDG  gnomAD  TopMed\n",
       "1000G     NaN  13.8    20.8    15.9\n",
       "CCDG      0.0   NaN     0.0     0.0\n",
       "gnomAD    5.7  14.2     NaN    22.1\n",
       "TopMed    2.3   6.4     6.8     NaN"
      ]
     },
     "execution_count": 43,
     "metadata": {},
     "output_type": "execute_result"
    }
   ],
   "source": [
    "# What percent of ROW cohorts' singletons intersect with a COL call (of same type and 80% reciprocal overlap).\n",
    "(s_matrix *  100).round(1)"
   ]
  },
  {
   "cell_type": "code",
   "execution_count": 44,
   "id": "5d35e043-d027-4ebf-be9c-a57494c7c199",
   "metadata": {},
   "outputs": [
    {
     "data": {
      "text/html": [
       "<div>\n",
       "<style scoped>\n",
       "    .dataframe tbody tr th:only-of-type {\n",
       "        vertical-align: middle;\n",
       "    }\n",
       "\n",
       "    .dataframe tbody tr th {\n",
       "        vertical-align: top;\n",
       "    }\n",
       "\n",
       "    .dataframe thead th {\n",
       "        text-align: right;\n",
       "    }\n",
       "</style>\n",
       "<table border=\"1\" class=\"dataframe\">\n",
       "  <thead>\n",
       "    <tr style=\"text-align: right;\">\n",
       "      <th></th>\n",
       "      <th>1000G</th>\n",
       "      <th>CCDG</th>\n",
       "      <th>gnomAD</th>\n",
       "      <th>TopMed</th>\n",
       "    </tr>\n",
       "  </thead>\n",
       "  <tbody>\n",
       "    <tr>\n",
       "      <th>1000G</th>\n",
       "      <td>NaN</td>\n",
       "      <td>21.0</td>\n",
       "      <td>40.2</td>\n",
       "      <td>29.2</td>\n",
       "    </tr>\n",
       "    <tr>\n",
       "      <th>CCDG</th>\n",
       "      <td>14.9</td>\n",
       "      <td>NaN</td>\n",
       "      <td>24.2</td>\n",
       "      <td>27.7</td>\n",
       "    </tr>\n",
       "    <tr>\n",
       "      <th>gnomAD</th>\n",
       "      <td>22.4</td>\n",
       "      <td>18.4</td>\n",
       "      <td>NaN</td>\n",
       "      <td>26.0</td>\n",
       "    </tr>\n",
       "    <tr>\n",
       "      <th>TopMed</th>\n",
       "      <td>12.2</td>\n",
       "      <td>15.5</td>\n",
       "      <td>19.4</td>\n",
       "      <td>NaN</td>\n",
       "    </tr>\n",
       "  </tbody>\n",
       "</table>\n",
       "</div>"
      ],
      "text/plain": [
       "        1000G  CCDG  gnomAD  TopMed\n",
       "1000G     NaN  21.0    40.2    29.2\n",
       "CCDG     14.9   NaN    24.2    27.7\n",
       "gnomAD   22.4  18.4     NaN    26.0\n",
       "TopMed   12.2  15.5    19.4     NaN"
      ]
     },
     "execution_count": 44,
     "metadata": {},
     "output_type": "execute_result"
    }
   ],
   "source": [
    "# What percent of ROW cohorts' non-singletons intersect with a COL call (of same type and 80% reciprocal overlap).\n",
    "(ns_matrix *  100).round(1)"
   ]
  },
  {
   "cell_type": "code",
   "execution_count": 68,
   "id": "a9822a41-6340-449b-81e8-3bc768da374f",
   "metadata": {},
   "outputs": [],
   "source": [
    "everyone['Subset'] = 'all'\n",
    "single['Subset'] = 'singleton'\n",
    "nonsingle['Subset'] = 'nonsingleton'\n",
    "sup_table = pd.concat([everyone, single, nonsingle])"
   ]
  },
  {
   "cell_type": "code",
   "execution_count": 71,
   "id": "a49de7a1-e1e2-42bb-a3f4-d3f51e2a24c1",
   "metadata": {},
   "outputs": [],
   "source": [
    "sup_table[['Subset', 'a_src', 'b_src', 'svtype', 'a_cnt', 'b_cnt', 'ab_ovl']].to_csv(\"suptable_known.tsv\", sep='\\t', index=False)"
   ]
  },
  {
   "cell_type": "markdown",
   "id": "168569a5-3cd7-418d-82f8-83a6f21f3a8c",
   "metadata": {},
   "source": [
    "# Allele frequency correlations"
   ]
  },
  {
   "cell_type": "code",
   "execution_count": 45,
   "id": "105115e9-5362-4526-bae4-c31e96e21218",
   "metadata": {},
   "outputs": [],
   "source": [
    "data['TopMed_AF'] = data['AF'].apply(lambda x: x[0])\n",
    "view = data[data['is_pass']]"
   ]
  },
  {
   "cell_type": "code",
   "execution_count": 46,
   "id": "aecb9dbf-f2fe-4f0a-81fa-31fe2e1f2947",
   "metadata": {},
   "outputs": [
    {
     "name": "stdout",
     "output_type": "stream",
     "text": [
      "Max PearsonRResult(statistic=0.9413672581180348, pvalue=0.0)\n",
      "1000G PearsonRResult(statistic=0.9773465959006792, pvalue=0.0)\n",
      "CCDG PearsonRResult(statistic=0.972439110832589, pvalue=0.0)\n",
      "gnomAD PearsonRResult(statistic=0.9555505862930398, pvalue=0.0)\n"
     ]
    }
   ],
   "source": [
    "from scipy.stats import pearsonr\n",
    "\n",
    "max_af = view[view['is_known']][['TopMed_AF', 'Max_AF', 'svtype']]\n",
    "one_af = view[view['1000g']][['TopMed_AF', 'Best_1000G_AF', 'svtype']]\n",
    "cdg_af = view[view['ccdg']][['TopMed_AF', 'Best_CCDG_AF', 'svtype' ]]\n",
    "gno_af = view[view['gnomad']][['TopMed_AF', 'Best_gnomAD_AF', 'svtype']]\n",
    "for i,j in [(\"Max\", max_af), (\"1000G\", one_af), (\"CCDG\", cdg_af), (\"gnomAD\", gno_af)]:\n",
    "    t, o = j.values[:, 0], j.values[:, 1]\n",
    "    print(i, pearsonr(t, o))"
   ]
  },
  {
   "cell_type": "code",
   "execution_count": 47,
   "id": "a526cf4a-fec2-48c2-a1da-984bbcb585fa",
   "metadata": {},
   "outputs": [
    {
     "name": "stdout",
     "output_type": "stream",
     "text": [
      "Max PearsonRResult(statistic=0.9413672581180348, pvalue=0.0)\n",
      "1000G PearsonRResult(statistic=0.9773465959006792, pvalue=0.0)\n",
      "CCDG PearsonRResult(statistic=0.972439110832589, pvalue=0.0)\n",
      "gnomAD PearsonRResult(statistic=0.9555505862930398, pvalue=0.0)\n",
      "\n",
      "DEL Max 78095 PearsonRResult(statistic=0.9583280299864165, pvalue=0.0)\n",
      "DEL 1000G 33844 PearsonRResult(statistic=0.9808436244133192, pvalue=0.0)\n",
      "DEL CCDG 42731 PearsonRResult(statistic=0.9931218752767672, pvalue=0.0)\n",
      "DEL gnomAD 52939 PearsonRResult(statistic=0.9575476561099253, pvalue=0.0)\n",
      "DUP Max 16825 PearsonRResult(statistic=0.9175742162944212, pvalue=0.0)\n",
      "DUP 1000G 5312 PearsonRResult(statistic=0.9676066786537405, pvalue=0.0)\n",
      "DUP CCDG 7680 PearsonRResult(statistic=0.955672298559451, pvalue=0.0)\n",
      "DUP gnomAD 10909 PearsonRResult(statistic=0.8894289344308475, pvalue=0.0)\n",
      "INV Max 1420 PearsonRResult(statistic=0.4110426953098546, pvalue=5.297119832173192e-59)\n",
      "INV 1000G 390 PearsonRResult(statistic=0.5164938483998082, pvalue=5.600743915584112e-28)\n",
      "INV CCDG 1248 PearsonRResult(statistic=0.6317318222839119, pvalue=5.66921401291961e-140)\n",
      "INV gnomAD 257 PearsonRResult(statistic=0.9959226169178071, pvalue=1.9587083750759046e-268)\n"
     ]
    }
   ],
   "source": [
    "from scipy.stats import pearsonr\n",
    "view = view.copy()\n",
    "\n",
    "max_af = view[view['is_known']][['TopMed_AF', 'Max_AF', 'svtype']]\n",
    "one_af = view[view['1000g']][['TopMed_AF', 'Best_1000G_AF', 'svtype']]\n",
    "cdg_af = view[view['ccdg']][['TopMed_AF', 'Best_CCDG_AF', 'svtype' ]]\n",
    "gno_af = view[view['gnomad']][['TopMed_AF', 'Best_gnomAD_AF', 'svtype']]\n",
    "for i,j in [(\"Max\", max_af), (\"1000G\", one_af), (\"CCDG\", cdg_af), (\"gnomAD\", gno_af)]:\n",
    "    t, o = j.values[:, 0], j.values[:, 1]\n",
    "    print(i, pearsonr(t, o))\n",
    "    \n",
    "print()\n",
    "\n",
    "for svtype in [\"DEL\", \"DUP\", \"INV\"]:\n",
    "    for i,j in [(\"Max\", max_af), (\"1000G\", one_af), (\"CCDG\", cdg_af), (\"gnomAD\", gno_af)]:\n",
    "        j = j[j['svtype'] == svtype]\n",
    "        t, o = j.values[:, 0], j.values[:, 1]\n",
    "        print(svtype, i, len(t), pearsonr(t, o))"
   ]
  },
  {
   "cell_type": "code",
   "execution_count": 83,
   "id": "d08d9ede-2463-4497-a393-9bc60b03e328",
   "metadata": {},
   "outputs": [
    {
     "name": "stdout",
     "output_type": "stream",
     "text": [
      "is_known\n",
      "False    31770\n",
      "True      1420\n",
      "Name: is_known, dtype: int64\n",
      "1000g\n",
      "False    32800\n",
      "True       390\n",
      "Name: 1000g, dtype: int64\n",
      "ccdg\n",
      "False    31942\n",
      "True      1248\n",
      "Name: ccdg, dtype: int64\n",
      "gnomad\n",
      "False    32933\n",
      "True       257\n",
      "Name: gnomad, dtype: int64\n"
     ]
    }
   ],
   "source": [
    "inv = data[data['is_pass'] & (data['svtype'] == 'INV')]\n",
    "for i in ['is_known', '1000g', 'ccdg', 'gnomad']:\n",
    "    print(i)\n",
    "    print(inv[i].value_counts())"
   ]
  },
  {
   "cell_type": "markdown",
   "id": "ac1ed496-fc83-458b-b672-687266ea54c6",
   "metadata": {},
   "source": [
    "1. Make 0.005 width bins for the TopMed AFs (x).\n",
    "2. Groupby SVTYPE (including all) and these bins\n",
    "3. For the max and each cohort, get the Best_*_AF mean (y).\n",
    "\n",
    "end with:\n",
    "AF_Bin, svtype, other cohort name, AF\n",
    "\n",
    "I was trying to visualize the AF correlations, but it just doesn't convey anything more useful than the pearsonr coeff. Abandoning this as a fig3b replacement."
   ]
  },
  {
   "cell_type": "code",
   "execution_count": 48,
   "id": "ac018881-69b7-40d8-b6ef-4c82a3bc9f78",
   "metadata": {},
   "outputs": [],
   "source": [
    "view = data[data['is_pass']].copy()\n",
    "m_bins = []\n",
    "cur = 0\n",
    "while cur <= 1.005:\n",
    "    m_bins.append(cur)\n",
    "    cur += 0.005\n",
    "view[\"TopMed_AFbin\"] = pd.cut(view[\"TopMed_AF\"], bins=m_bins)"
   ]
  },
  {
   "cell_type": "code",
   "execution_count": 49,
   "id": "55edc4b9-da8c-4322-a520-14bfe001eee8",
   "metadata": {},
   "outputs": [],
   "source": [
    "rows = []\n",
    "#for i, d in view.groupby(['svtype', 'TopMed_AFbin']):\n",
    "for i, d in view.groupby('TopMed_AFbin'):\n",
    "    for okey, ocol, oname in [('is_known', \"Max_AF\", 'Max'), ('1000g', \"Best_1000G_AF\", \"1KGP\"),\n",
    "                              (\"ccdg\", \"Best_CCDG_AF\", \"CCDG\"), (\"gnomad\", \"Best_gnomAD_AF\", \"gnomAD\")]:\n",
    "        m_af = d[d[okey]][ocol].mean()\n",
    "        rows.append([i, oname, m_af])\n",
    "fig3 = pd.DataFrame(rows, columns=[\"AFbin\", \"Cohort\", \"MeanAF\"]) \n"
   ]
  },
  {
   "cell_type": "code",
   "execution_count": 50,
   "id": "f8f5f96c-0b42-4558-a775-193c11ee5f45",
   "metadata": {},
   "outputs": [],
   "source": [
    "fig3 = fig3.sort_values(by=\"AFbin\")\n",
    "fig3[\"AFbin\"] = fig3[\"AFbin\"].astype(str)"
   ]
  },
  {
   "cell_type": "code",
   "execution_count": 51,
   "id": "493b6a45-495a-4a91-ab4f-06fc441c2ed4",
   "metadata": {},
   "outputs": [
    {
     "data": {
      "text/plain": [
       "<Axes: xlabel='AFbin', ylabel='MeanAF'>"
      ]
     },
     "execution_count": 51,
     "metadata": {},
     "output_type": "execute_result"
    },
    {
     "data": {
      "image/png": "[encoded data removed]",
      "text/plain": [
       "<Figure size 640x480 with 1 Axes>"
      ]
     },
     "metadata": {},
     "output_type": "display_data"
    }
   ],
   "source": [
    "sb.lineplot(data=fig3, x=\"AFbin\", y=\"MeanAF\", hue=\"Cohort\")"
   ]
  },
  {
   "cell_type": "markdown",
   "id": "3618c39e-10c5-49d3-93f4-1df1f90432b7",
   "metadata": {},
   "source": [
    "# Figure 3b"
   ]
  },
  {
   "cell_type": "code",
   "execution_count": 52,
   "id": "5a15dfd1-125d-4d3c-b418-dc8ec8eed843",
   "metadata": {},
   "outputs": [],
   "source": [
    "view = data[data['is_pass'] & ~data['is_single']]\n",
    "kno = view[view[\"is_known\"]][\"TopMed_AF\"].copy().to_frame()\n",
    "gno = view[view[\"gnomad\"]][\"TopMed_AF\"].copy().to_frame()\n",
    "one = view[view[\"1000g\"]][\"TopMed_AF\"].copy().to_frame()\n",
    "cdg = view[view[\"ccdg\"]][\"TopMed_AF\"].copy().to_frame()\n",
    "new = view[~view[\"is_known\"]][\"TopMed_AF\"].copy().to_frame()"
   ]
  },
  {
   "cell_type": "code",
   "execution_count": 53,
   "id": "beb0eb6d-fd41-42e5-9cf9-8ed984fc5c49",
   "metadata": {},
   "outputs": [],
   "source": [
    "kno[\"intersection\"] = \"Any\"\n",
    "gno[\"intersection\"] = \"gnomAD\"\n",
    "one[\"intersection\"] = \"1KGP\"\n",
    "cdg[\"intersection\"] = \"CCDG\"\n",
    "new[\"intersection\"] = \"Unique\"\n",
    "view = pd.concat([kno, gno, cdg, one, new])"
   ]
  },
  {
   "cell_type": "code",
   "execution_count": 55,
   "id": "01be035e-2dec-4ea9-b471-46d6065f259a",
   "metadata": {},
   "outputs": [
    {
     "data": {
      "image/png": "[encoded data removed]",
      "text/plain": [
       "<Figure size 1800x1080 with 1 Axes>"
      ]
     },
     "metadata": {},
     "output_type": "display_data"
    }
   ],
   "source": [
    "import matplotlib.pyplot as plt\n",
    "#sb.set(rc={'figure.figsize':(15.7,8.27)})\n",
    "#sb.reset_orig()\n",
    "plt.figure(dpi=180, figsize=(10,6))\n",
    "p = sb.boxplot(data=view, x=\"intersection\", y=\"TopMed_AF\", palette=sb.color_palette(\"Accent\"), showfliers=False)\n",
    "p.set(yscale='log', ylabel=\"AF (log)\", xlabel=\"Intersection\", title=\"TopMed SV AF by intersection status\")\n",
    "plt.show()"
   ]
  },
  {
   "cell_type": "code",
   "execution_count": 56,
   "id": "6a31f195-27cb-42f7-862c-c3344fdcf3c4",
   "metadata": {},
   "outputs": [
    {
     "data": {
      "text/plain": [
       "Unique    104071\n",
       "Any        78333\n",
       "gnomAD     54500\n",
       "CCDG       42299\n",
       "1KGP       36821\n",
       "Name: intersection, dtype: int64"
      ]
     },
     "execution_count": 56,
     "metadata": {},
     "output_type": "execute_result"
    }
   ],
   "source": [
    "view[\"intersection\"].value_counts()"
   ]
  },
  {
   "cell_type": "markdown",
   "id": "a0059ef6-6259-4f38-a24a-773c9c42db89",
   "metadata": {},
   "source": [
    "# chrX novel by sex\n",
    "\n",
    "Have to address that with `../results/gender_data.txt.gz` - deciphering if unique to a sex - joining that status to data - then grouping/counting/printing the table."
   ]
  },
  {
   "cell_type": "code",
   "execution_count": 59,
   "id": "431e18f7-9f93-4b2f-9cc1-8246a0bc1d9a",
   "metadata": {},
   "outputs": [],
   "source": [
    "gender = pd.read_csv(\"../results/gender_data.txt.gz\", sep='\\t', header=None, \n",
    "                     names=[\"id\", \"f_ref\", \"f_het\", \"f_alt\", \"m_ref\", \"m_alt\"])\n",
    "gender.set_index(\"id\", inplace=True)\n",
    "\n",
    "gdata = raw_data[raw_data['is_pass']].set_index('id').join(gender)"
   ]
  },
  {
   "cell_type": "code",
   "execution_count": 60,
   "id": "5cb13b8d-0ec5-41cf-8194-b83c04257063",
   "metadata": {},
   "outputs": [],
   "source": [
    "gdata['in_male'] = gdata['m_alt'] != 0\n",
    "gdata['in_female'] = (gdata['f_het'] + gdata['f_alt']) != 0\n",
    "m_exclusive = gdata[gdata['in_male'] & ~gdata['in_female']]\n",
    "f_exclusive = gdata[~gdata['in_male'] & gdata['in_female']]"
   ]
  },
  {
   "cell_type": "code",
   "execution_count": 61,
   "id": "23ffc09d-3468-4f77-b10f-c2228c7abd5c",
   "metadata": {},
   "outputs": [
    {
     "data": {
      "text/plain": [
       "(2973, 8956)"
      ]
     },
     "execution_count": 61,
     "metadata": {},
     "output_type": "execute_result"
    }
   ],
   "source": [
    "len(m_exclusive), len(f_exclusive)"
   ]
  },
  {
   "cell_type": "code",
   "execution_count": 63,
   "id": "bcf1c280-e9a6-4911-acf0-2526954b4e97",
   "metadata": {},
   "outputs": [
    {
     "data": {
      "text/html": [
       "<div>\n",
       "<style scoped>\n",
       "    .dataframe tbody tr th:only-of-type {\n",
       "        vertical-align: middle;\n",
       "    }\n",
       "\n",
       "    .dataframe tbody tr th {\n",
       "        vertical-align: top;\n",
       "    }\n",
       "\n",
       "    .dataframe thead th {\n",
       "        text-align: right;\n",
       "    }\n",
       "</style>\n",
       "<table border=\"1\" class=\"dataframe\">\n",
       "  <thead>\n",
       "    <tr style=\"text-align: right;\">\n",
       "      <th></th>\n",
       "      <th>novel</th>\n",
       "      <th>known</th>\n",
       "      <th>TOT</th>\n",
       "    </tr>\n",
       "    <tr>\n",
       "      <th>svtype</th>\n",
       "      <th></th>\n",
       "      <th></th>\n",
       "      <th></th>\n",
       "    </tr>\n",
       "  </thead>\n",
       "  <tbody>\n",
       "    <tr>\n",
       "      <th>DEL</th>\n",
       "      <td>1247</td>\n",
       "      <td>134</td>\n",
       "      <td>1381</td>\n",
       "    </tr>\n",
       "    <tr>\n",
       "      <th>DUP</th>\n",
       "      <td>946</td>\n",
       "      <td>105</td>\n",
       "      <td>1051</td>\n",
       "    </tr>\n",
       "    <tr>\n",
       "      <th>INV</th>\n",
       "      <td>522</td>\n",
       "      <td>19</td>\n",
       "      <td>541</td>\n",
       "    </tr>\n",
       "    <tr>\n",
       "      <th>TOT</th>\n",
       "      <td>2715</td>\n",
       "      <td>258</td>\n",
       "      <td>2973</td>\n",
       "    </tr>\n",
       "  </tbody>\n",
       "</table>\n",
       "</div>"
      ],
      "text/plain": [
       "        novel  known   TOT\n",
       "svtype                    \n",
       "DEL      1247    134  1381\n",
       "DUP       946    105  1051\n",
       "INV       522     19   541\n",
       "TOT      2715    258  2973"
      ]
     },
     "execution_count": 63,
     "metadata": {},
     "output_type": "execute_result"
    }
   ],
   "source": [
    "v = m_exclusive.groupby(['svtype', 'is_known']).size().unstack().loc[[\"DEL\", \"DUP\", \"INV\"]]\n",
    "v.columns = [\"novel\", \"known\"]\n",
    "v['TOT'] = v.sum(axis=1)\n",
    "v.loc['TOT'] = v.sum(axis=0)\n",
    "v"
   ]
  },
  {
   "cell_type": "code",
   "execution_count": 64,
   "id": "d93ec429-04c3-44f6-bcca-6ab721966d8c",
   "metadata": {},
   "outputs": [
    {
     "data": {
      "text/html": [
       "<div>\n",
       "<style scoped>\n",
       "    .dataframe tbody tr th:only-of-type {\n",
       "        vertical-align: middle;\n",
       "    }\n",
       "\n",
       "    .dataframe tbody tr th {\n",
       "        vertical-align: top;\n",
       "    }\n",
       "\n",
       "    .dataframe thead th {\n",
       "        text-align: right;\n",
       "    }\n",
       "</style>\n",
       "<table border=\"1\" class=\"dataframe\">\n",
       "  <thead>\n",
       "    <tr style=\"text-align: right;\">\n",
       "      <th></th>\n",
       "      <th>novel</th>\n",
       "      <th>known</th>\n",
       "      <th>TOT</th>\n",
       "    </tr>\n",
       "    <tr>\n",
       "      <th>svtype</th>\n",
       "      <th></th>\n",
       "      <th></th>\n",
       "      <th></th>\n",
       "    </tr>\n",
       "  </thead>\n",
       "  <tbody>\n",
       "    <tr>\n",
       "      <th>DEL</th>\n",
       "      <td>3898</td>\n",
       "      <td>363</td>\n",
       "      <td>4261</td>\n",
       "    </tr>\n",
       "    <tr>\n",
       "      <th>DUP</th>\n",
       "      <td>3073</td>\n",
       "      <td>285</td>\n",
       "      <td>3358</td>\n",
       "    </tr>\n",
       "    <tr>\n",
       "      <th>INV</th>\n",
       "      <td>1319</td>\n",
       "      <td>18</td>\n",
       "      <td>1337</td>\n",
       "    </tr>\n",
       "    <tr>\n",
       "      <th>TOT</th>\n",
       "      <td>8290</td>\n",
       "      <td>666</td>\n",
       "      <td>8956</td>\n",
       "    </tr>\n",
       "  </tbody>\n",
       "</table>\n",
       "</div>"
      ],
      "text/plain": [
       "        novel  known   TOT\n",
       "svtype                    \n",
       "DEL      3898    363  4261\n",
       "DUP      3073    285  3358\n",
       "INV      1319     18  1337\n",
       "TOT      8290    666  8956"
      ]
     },
     "execution_count": 64,
     "metadata": {},
     "output_type": "execute_result"
    }
   ],
   "source": [
    "v = f_exclusive.groupby(['svtype', 'is_known']).size().unstack().loc[[\"DEL\", \"DUP\", \"INV\"]]\n",
    "v.columns = [\"novel\", \"known\"]\n",
    "v['TOT'] = v.sum(axis=1)\n",
    "v.loc['TOT'] = v.sum(axis=0)\n",
    "v"
   ]
  },
  {
   "cell_type": "code",
   "execution_count": 65,
   "id": "cfe538d5-5c4d-415e-9f7e-28f680256598",
   "metadata": {},
   "outputs": [
    {
     "data": {
      "text/plain": [
       "344184"
      ]
     },
     "execution_count": 65,
     "metadata": {},
     "output_type": "execute_result"
    }
   ],
   "source": [
    "data['is_pass'].sum()"
   ]
  },
  {
   "cell_type": "code",
   "execution_count": 66,
   "id": "8ac6ad45-a25b-4e64-8061-f03e90a47552",
   "metadata": {},
   "outputs": [
    {
     "data": {
      "text/plain": [
       "344184"
      ]
     },
     "execution_count": 66,
     "metadata": {},
     "output_type": "execute_result"
    }
   ],
   "source": [
    "data[data['chrom'] != 'chrX']['is_pass'].sum()"
   ]
  },
  {
   "cell_type": "code",
   "execution_count": null,
   "id": "1c79841e-c23f-4431-8652-088ff545d248",
   "metadata": {},
   "outputs": [],
   "source": []
  }
 ],
 "metadata": {
  "kernelspec": {
   "display_name": "Python 3 (ipykernel)",
   "language": "python",
   "name": "python3"
  },
  "language_info": {
   "codemirror_mode": {
    "name": "ipython",
    "version": 3
   },
   "file_extension": ".py",
   "mimetype": "text/x-python",
   "name": "python",
   "nbconvert_exporter": "python",
   "pygments_lexer": "ipython3",
   "version": "3.9.6"
  }
 },
 "nbformat": 4,
 "nbformat_minor": 5
}
